{
 "cells": [
  {
   "cell_type": "code",
   "execution_count": 1,
   "metadata": {},
   "outputs": [
    {
     "data": {
      "text/plain": [
       "('1.4.4', '1.23.1', '2022.03.2', '1.11.0+cu113', True, '2.1.0')"
      ]
     },
     "execution_count": 1,
     "metadata": {},
     "output_type": "execute_result"
    }
   ],
   "source": [
    "import pandas as pd\n",
    "import numpy as np \n",
    "import rdkit\n",
    "from rdkit import Chem \n",
    "import torch\n",
    "import torch_geometric\n",
    "from torch_geometric.data import Dataset, Data\n",
    "from torch_geometric.loader import DataLoader\n",
    "\n",
    "seed = 42\n",
    "np.random.seed(seed)\n",
    "torch.manual_seed(seed)\n",
    "\n",
    "pd.__version__, np.__version__, rdkit.__version__, torch.__version__, torch.cuda.is_available(), torch_geometric.__version__"
   ]
  },
  {
   "cell_type": "code",
   "execution_count": 2,
   "metadata": {},
   "outputs": [
    {
     "data": {
      "text/plain": [
       "device(type='cuda', index=0)"
      ]
     },
     "execution_count": 2,
     "metadata": {},
     "output_type": "execute_result"
    }
   ],
   "source": [
    "device = torch.device(\"cuda:0\" if torch.cuda.is_available() else \"cpu\")\n",
    "\n",
    "if device == 'cuda:0':\n",
    "    torch.cuda.manual_seed_all(seed)\n",
    "    \n",
    "device"
   ]
  },
  {
   "cell_type": "code",
   "execution_count": 3,
   "metadata": {},
   "outputs": [],
   "source": [
    "import os\n",
    "from tqdm import tqdm"
   ]
  },
  {
   "cell_type": "code",
   "execution_count": 4,
   "metadata": {},
   "outputs": [],
   "source": [
    "class MoleculeDataset(Dataset): #Dataset에서 상속 받음\n",
    "    def __init__(self, root, filename, test=False, transform=None, pre_transform=None):\n",
    "        self.test = test\n",
    "        self.filename = filename\n",
    "        super(MoleculeDataset, self).__init__(root, transform, pre_transform)\n",
    "\n",
    "    @property\n",
    "    def raw_file_names(self):\n",
    "        return self.filename\n",
    "\n",
    "    @property\n",
    "    def processed_file_names(self): #파일 존재 여부 확인\n",
    "        self.data = pd.read_csv(self.raw_paths[0]).reset_index()\n",
    "        if self.test:\n",
    "            return [f'testset_{i}.pt' for i in list(self.data.index)]\n",
    "        else:\n",
    "            return [f'trainset_{i}.pt' for i in list(self.data.index)]\n",
    "\n",
    "    def download(self):\n",
    "        pass\n",
    "\n",
    "    def process(self):\n",
    "        self.data = pd.read_csv(self.raw_paths[0])\n",
    "        for index, sequences in tqdm(self.data.iterrows(), total=self.data.shape[0]):\n",
    "            mol = Chem.MolFromSmiles(\n",
    "                '.'.join( #.는 non-bond\n",
    "                    Chem.MolToSmiles(\n",
    "                        Chem.MolFromSequence(sequences[sequence])\n",
    "                    ) for sequence in ['mhc_sequence', 'sequence']\n",
    "                )\n",
    "            )\n",
    "            mol = Chem.AddHs(mol)\n",
    "            x = self._get_node_features(mol)\n",
    "            edge_attr, edge_index, edge_weight = self._get_edge_features(mol)\n",
    "            y = self._get_labels(sequences['binding']) \n",
    "            data = Data(x=x, edge_attr=edge_attr, edge_index=edge_index, edge_weight=edge_weight, y=y)\n",
    "            \n",
    "            if self.test:\n",
    "                torch.save(data, os.path.join(self.processed_dir, f'testset_{index}.pt'))\n",
    "            else:\n",
    "                torch.save(data, os.path.join(self.processed_dir, f'trainset_{index}.pt'))\n",
    "\n",
    "    def _get_node_features(self, mol):\n",
    "        all_node_feats = []\n",
    "\n",
    "        for atom in mol.GetAtoms(): #원자에 대해\n",
    "            symbol = atom.GetSymbol() #원소기호\n",
    "            valid_atoms = {'H': 0, 'C':1, 'N':2, 'O':3, 'S':4}\n",
    "            atom_one_hot = [0] * len(valid_atoms)\n",
    "            try:\n",
    "                idx = valid_atoms[symbol]\n",
    "                atom_one_hot[idx] = 1\n",
    "            except:\n",
    "                pass\n",
    "\n",
    "            hybrid = atom.GetHybridization()\n",
    "            hybrid_one_hot = [0] * 7\n",
    "            if hybrid == Chem.HybridizationType.SP3:\n",
    "                hybrid_one_hot[0] = 1\n",
    "            elif hybrid == Chem.HybridizationType.SP2:\n",
    "                hybrid_one_hot[1] = 1\n",
    "            elif hybrid == Chem.HybridizationType.SP:\n",
    "                hybrid_one_hot[2] = 1\n",
    "            elif hybrid == Chem.HybridizationType.S:\n",
    "                hybrid_one_hot[3] = 1\n",
    "            elif hybrid == Chem.HybridizationType.SP3D:\n",
    "                hybrid_one_hot[4] = 1\n",
    "            elif hybrid == Chem.HybridizationType.SP3D2:\n",
    "                hybrid_one_hot[5] = 1\n",
    "            else:\n",
    "                hybrid_one_hot[6] = 1\n",
    "\n",
    "            degree = atom.GetDegree() #공유결합의 개수\n",
    "            degree_one_hot = [0, 0, 0, 0, 0, 0]\n",
    "            if degree >= 5: # 5개 이상의 공유 결합을 가지는 원자.\n",
    "                degree_one_hot[5]=1\n",
    "            else:\n",
    "                degree_one_hot[degree]=1\n",
    "\n",
    "            num_h = atom.GetTotalNumHs() #결합된 수소원자의 개수\n",
    "            h_one_hot = [0, 0, 0, 0, 0]\n",
    "            if num_h >= 4:\n",
    "                h_one_hot[4] = 1\n",
    "            else:\n",
    "                h_one_hot[num_h] = 1\n",
    "\n",
    "            chiral = atom.GetChiralTag() #손대칭성\n",
    "            if chiral == Chem.rdchem.ChiralType.CHI_OTHER:\n",
    "                chiral_one_hot = [1, 0, 0, 0]\n",
    "            elif chiral == Chem.rdchem.ChiralType.CHI_TETRAHEDRAL_CCW:\n",
    "                chiral_one_hot = [0, 1, 0, 0]\n",
    "            elif chiral == Chem.rdchem.ChiralType.CHI_TETRAHEDRAL_CW:\n",
    "                chiral_one_hot = [0, 0, 1, 0]\n",
    "            elif chiral == Chem.rdchem.ChiralType.CHI_UNSPECIFIED:\n",
    "                chiral_one_hot = [0, 0, 0, 1]\n",
    "\n",
    "            aromatic = 1 if atom.GetIsAromatic() else 0 #방향족 여부\n",
    "            ring = 1 if atom.IsInRing() else 0 #고리 내 포함 여부\n",
    "\n",
    "            node_attr = atom_one_hot + hybrid_one_hot + degree_one_hot + h_one_hot + chiral_one_hot + [aromatic, ring, atom.GetFormalCharge(), atom.GetNumRadicalElectrons()]\n",
    "            all_node_feats.append(node_attr)\n",
    "            \n",
    "        all_node_feats = np.asarray(all_node_feats)\n",
    "        return torch.tensor(all_node_feats, dtype=torch.float)\n",
    "\n",
    "    def _get_edge_features(self, mol):\n",
    "        all_edge_feats = []\n",
    "        edge_indices = []\n",
    "        edge_weights = []\n",
    "        for bond in mol.GetBonds(): #공유결합에 대해\n",
    "            bond_type = bond.GetBondType() #공유 결합의 종류\n",
    "            if bond_type == Chem.rdchem.BondType.SINGLE:\n",
    "                bond_one_hot = [1, 0, 0, 0]\n",
    "                edge_weights.extend([1.0, 1.0])\n",
    "            elif bond_type == Chem.rdchem.BondType.AROMATIC:\n",
    "                bond_one_hot = [0, 1, 0, 0]\n",
    "                edge_weights.extend([1.5, 1.5])\n",
    "            elif bond_type == Chem.rdchem.BondType.DOUBLE:\n",
    "                bond_one_hot = [0, 0, 1, 0]\n",
    "                edge_weights.extend([2.0, 2.0])\n",
    "            elif bond_type == Chem.rdchem.BondType.TRIPLE:\n",
    "                bond_one_hot = [0, 0, 0, 1]   \n",
    "                edge_weights.extend([3.0, 3.0])  \n",
    "\n",
    "            stereo_type = bond.GetStereo()\n",
    "            if stereo_type == Chem.rdchem.BondStereo.STEREOANY:\n",
    "                stereo_one_hot = [1, 0, 0, 0, 0, 0]\n",
    "            elif stereo_type == Chem.rdchem.BondStereo.STEREOCIS:\n",
    "                stereo_one_hot = [0, 1, 0, 0, 0, 0]\n",
    "            elif stereo_type == Chem.rdchem.BondStereo.STEREOE:\n",
    "                stereo_one_hot = [0, 0, 1, 0, 0, 0]\n",
    "            elif stereo_type == Chem.rdchem.BondStereo.STEREONONE:\n",
    "                stereo_one_hot = [0, 0, 0, 1, 0, 0]\n",
    "            elif stereo_type == Chem.rdchem.BondStereo.STEREOTRANS:\n",
    "                stereo_one_hot = [0, 0, 0, 0, 1, 0]\n",
    "            elif stereo_type == Chem.rdchem.BondStereo.STEREOZ:\n",
    "                stereo_one_hot = [0, 0, 0, 0, 0, 1]\n",
    "\n",
    "            ring_bond = 1 if bond.IsInRing() else 0 #링 내 포함 여부\n",
    "            conjugate_bond = 1 if bond.GetIsConjugated() else 0\n",
    "\n",
    "            edge_attr = bond_one_hot + stereo_one_hot + [ring_bond, conjugate_bond]\n",
    "            all_edge_feats.append(edge_attr) #무향 그래프이므로 두번 추가\n",
    "            all_edge_feats.append(edge_attr)\n",
    "            \n",
    "            i = bond.GetBeginAtomIdx() #시작 원자의 인덱스\n",
    "            j = bond.GetEndAtomIdx() #종점 원자의 인덱스\n",
    "            edge_indices += [[i, j], [j, i]]\n",
    "\n",
    "        all_edge_feats = np.asarray(all_edge_feats)\n",
    "        all_edge_feats = torch.tensor(all_edge_feats, dtype=torch.float)\n",
    "        \n",
    "        edge_indices = torch.tensor(edge_indices)\n",
    "        edge_indices = edge_indices.t().to(torch.long).view(2, -1)\n",
    "        \n",
    "        edge_weights = torch.tensor(edge_weights, dtype = torch.float)\n",
    "        \n",
    "        return all_edge_feats, edge_indices, edge_weights\n",
    "\n",
    "    def _get_labels(self, label):\n",
    "        label = np.asarray([label])\n",
    "        return torch.tensor(label, dtype=torch.int64)\n",
    "\n",
    "    def len(self):\n",
    "        return self.data.shape[0]\n",
    "\n",
    "    def get(self, idx):\n",
    "        if self.test:\n",
    "            data = torch.load(os.path.join(self.processed_dir, f'testset_{idx}.pt'))\n",
    "        else:\n",
    "            data = torch.load(os.path.join(self.processed_dir, f'trainset_{idx}.pt'))   \n",
    "        return data"
   ]
  },
  {
   "cell_type": "code",
   "execution_count": 5,
   "metadata": {},
   "outputs": [
    {
     "data": {
      "text/plain": [
       "MoleculeDataset(125667)"
      ]
     },
     "execution_count": 5,
     "metadata": {},
     "output_type": "execute_result"
    }
   ],
   "source": [
    "trainset = MoleculeDataset(root='iedb_sequences', filename='iedb_trainset.csv')\n",
    "trainset"
   ]
  },
  {
   "cell_type": "code",
   "execution_count": 6,
   "metadata": {},
   "outputs": [
    {
     "data": {
      "text/plain": [
       "Data(x=[696, 31], edge_index=[2, 1416], edge_attr=[1416, 12], y=[1], edge_weight=[1416])"
      ]
     },
     "execution_count": 6,
     "metadata": {},
     "output_type": "execute_result"
    }
   ],
   "source": [
    "trainset[0]"
   ]
  },
  {
   "cell_type": "code",
   "execution_count": 7,
   "metadata": {},
   "outputs": [
    {
     "data": {
      "text/plain": [
       "MoleculeDataset(31417)"
      ]
     },
     "execution_count": 7,
     "metadata": {},
     "output_type": "execute_result"
    }
   ],
   "source": [
    "testset = MoleculeDataset(root='iedb_sequences', filename='iedb_testset.csv', test=True)\n",
    "testset"
   ]
  },
  {
   "cell_type": "code",
   "execution_count": 8,
   "metadata": {},
   "outputs": [
    {
     "data": {
      "text/plain": [
       "Data(x=[721, 31], edge_index=[2, 1478], edge_attr=[1478, 12], y=[1], edge_weight=[1478])"
      ]
     },
     "execution_count": 8,
     "metadata": {},
     "output_type": "execute_result"
    }
   ],
   "source": [
    "testset[0]"
   ]
  },
  {
   "cell_type": "code",
   "execution_count": 9,
   "metadata": {},
   "outputs": [],
   "source": [
    "batch_size = 64\n",
    "#batch_size = 128\n",
    "#batch_size = 256\n",
    "#batch_size = 512\n",
    "#batch_size = 1024\n",
    "#batch_size = 2048\n",
    "#batch_size = 4096\n",
    "\n",
    "train_loader = DataLoader(trainset, batch_size=batch_size, shuffle=True, drop_last=False)\n",
    "test_loader = DataLoader(testset, batch_size=batch_size, shuffle=True, drop_last=False)"
   ]
  },
  {
   "cell_type": "code",
   "execution_count": 10,
   "metadata": {},
   "outputs": [],
   "source": [
    "import torch\n",
    "import torch.nn.functional as F #활성함수나 드랍아웃을 사용하기 위해\n",
    "from torch.nn import MultiheadAttention, Conv1d, BatchNorm1d, MaxPool1d, Conv2d, BatchNorm2d, MaxPool2d, AvgPool1d\n",
    "from torch.nn import Linear, ModuleList #모듈리스트를 정의하는 이유는 학습을 할 수 있도록 하기 위해\n",
    "from torch_geometric.nn import GATConv, TransformerConv, SAGPooling, TopKPooling, GraphNorm, BatchNorm\n",
    "from torch_geometric.nn import global_mean_pool as gmp #노드 특징 벡터들의 평균값. 그래프 행렬를 벡터로 바꿔줌 (permutation invariance하게). 리드아웃에 사용. 리드아웃은 그래프 분류에만 사용되며 모든 노드의 은닉 상태를 더하여 그래프의 은닉 상태를 만드는 과정\n",
    "#from torch_geometric.nn import global_max_pool as gmp #노드 특징 벡터들 중 최대값\n",
    "\n",
    "#일반적인 DCNN의 적층 순서: Conv > BN > Activation > Dropout > Pooling\n",
    "\n",
    "class GNN(torch.nn.Module): #nn.Modlule 상속\n",
    "    def __init__(self, hyperparameters):\n",
    "        super(GNN, self).__init__()\n",
    "        in_channels= hyperparameters[\"in_channels\"]\n",
    "        channels= hyperparameters[\"channels\"]\n",
    "        heads = hyperparameters[\"heads\"]\n",
    "        self.heads = heads\n",
    "        dropout_rate = hyperparameters[\"dropout_rate\"]\n",
    "        self.dropout_rate = dropout_rate\n",
    "        edge_dim = hyperparameters[\"edge_dim\"]\n",
    "        kernel_size = hyperparameters[\"kernel_size\"]\n",
    "\n",
    "        self.conv1 = GATConv(in_channels, channels, heads=heads, dropout=dropout_rate, edge_dim=edge_dim, concat=False) \n",
    "        self.norm1 = GraphNorm(channels)\n",
    "        \n",
    "        self.conv2 = GATConv(channels, channels, heads=heads, dropout=dropout_rate, edge_dim=edge_dim, concat=False) \n",
    "        self.norm2 = GraphNorm(channels)\n",
    "        \n",
    "        self.conv3 = GATConv(channels, channels, heads=heads, dropout=dropout_rate, edge_dim=edge_dim, concat=False) \n",
    "        self.norm3 = GraphNorm(channels)\n",
    "        \n",
    "        self.conv4 = GATConv(channels, channels, heads=heads, dropout=dropout_rate, edge_dim=edge_dim, concat=False) \n",
    "        self.norm4 = GraphNorm(channels)\n",
    "        \n",
    "        self.conv5 = Conv1d(heads, heads*2, kernel_size=kernel_size, padding='same')\n",
    "        self.norm5 = BatchNorm1d(heads*2)\n",
    "        self.pool5 = AvgPool1d(2)\n",
    "        \n",
    "        self.conv6 = Conv1d(heads*2, heads*4, kernel_size=kernel_size, padding='same')\n",
    "        self.norm6 = BatchNorm1d(heads*4)\n",
    "        self.pool6 = AvgPool1d(2)\n",
    "        \n",
    "        self.lin7 = Linear(channels, 1)\n",
    "        \n",
    "    def forward(self, x, edge_attr, edge_index, edge_weight, batch_index):\n",
    "        x = self.conv1(x, edge_index, edge_attr)\n",
    "        x = self.norm1(x)\n",
    "        x = F.relu(x)\n",
    "        x = F.dropout(x, training=self.training, p=self.dropout_rate)\n",
    "        \n",
    "        x = self.conv2(x, edge_index, edge_attr)\n",
    "        x = self.norm2(x)\n",
    "        x = F.relu(x)\n",
    "        x = F.dropout(x, training=self.training, p=self.dropout_rate)\n",
    "        \n",
    "        x = self.conv3(x, edge_index, edge_attr)\n",
    "        x = self.norm3(x)\n",
    "        x = F.relu(x)\n",
    "        x = F.dropout(x, training=self.training, p=self.dropout_rate)\n",
    "        \n",
    "        x = self.conv4(x, edge_index, edge_attr)\n",
    "        x = self.norm4(x)\n",
    "        x = F.relu(x)\n",
    "        x = F.dropout(x, training=self.training, p=self.dropout_rate)\n",
    "        \n",
    "        x = gmp(x, batch_index)\n",
    "        skip4 = x\n",
    "        x = torch.reshape(x, (x.shape[0], self.heads, x.shape[1]//self.heads)) #헤드 수만큼 채널에 넣음\n",
    "        \n",
    "        x = self.conv5(x)\n",
    "        x = self.norm5(x)\n",
    "        x = F.relu(x)\n",
    "        x = F.dropout(x, training=self.training, p=self.dropout_rate)\n",
    "        x = self.pool5(x)\n",
    "        skip5 = x.flatten(start_dim=1, end_dim=2)\n",
    "                \n",
    "        x = self.conv6(x)\n",
    "        x = self.norm6(x)\n",
    "        x = F.relu(x)\n",
    "        x = F.dropout(x, training=self.training, p=self.dropout_rate)\n",
    "        x = self.pool6(x)\n",
    "        \n",
    "        x = x.flatten(start_dim=1, end_dim=2)\n",
    "        x += skip4 + skip5 #skip connection\n",
    "        \n",
    "        x = self.lin7(x)\n",
    "#         x = torch.sigmoid(x)\n",
    "        \n",
    "        return x"
   ]
  },
  {
   "cell_type": "code",
   "execution_count": 11,
   "metadata": {},
   "outputs": [],
   "source": [
    "from sklearn import metrics\n",
    "\n",
    "def evaluate(labels, predictions, mode):\n",
    "    roc_auc = metrics.roc_auc_score(labels, predictions)\n",
    "    print(mode, 'ROC AUC:', roc_auc)\n",
    "    fpr, tpr, thresholds = metrics.roc_curve(labels, predictions)\n",
    "    optimal_threshold = thresholds[np.argmax(tpr-fpr)]\n",
    "    casted = np.array([1 if element >= optimal_threshold else 0 for element in predictions])\n",
    "    print(mode, 'F1-score:', metrics.f1_score(labels, casted))\n",
    "    print(mode, 'Precision:', metrics.precision_score(labels, casted))\n",
    "    print(mode, 'Recall:', metrics.recall_score(labels, casted))\n",
    "    precision, recall, thresholds = metrics.precision_recall_curve(labels, predictions)\n",
    "    pr_auc = metrics.auc(recall, precision)\n",
    "    print(mode, 'PR AUC', pr_auc)\n",
    "    print(mode, 'Accuracy:', metrics.accuracy_score(labels, casted))\n",
    "    print(mode, 'Optimal threshold:', optimal_threshold)\n",
    "    return f'{roc_auc:.3f}'"
   ]
  },
  {
   "cell_type": "code",
   "execution_count": 12,
   "metadata": {},
   "outputs": [],
   "source": [
    "from datetime import datetime\n",
    "\n",
    "def train(epoch, model, train_loader, optimizer, criterion):\n",
    "    model.train() #학습 모드\n",
    "    labels = []\n",
    "    predictions = []\n",
    "    first = False\n",
    "    for batch in tqdm(train_loader):\n",
    "        batch.to(device)  \n",
    "        labels.append(batch.y.float().cpu().detach().numpy())\n",
    "        optimizer.zero_grad() #기울기 초기화\n",
    "        prediction = model(batch.x.float(), batch.edge_attr.float(), batch.edge_index, batch.edge_weight, batch.batch,) \n",
    "        loss = criterion(torch.squeeze(prediction), batch.y.float())\n",
    "        loss.backward() #미분, 역전파\n",
    "        optimizer.step() #가중치 갱신\n",
    "        predictions.append(torch.sigmoid(prediction).cpu().detach().numpy()) #시그모이드 적용\n",
    "    labels = np.concatenate(labels).ravel()\n",
    "    predictions = np.concatenate(predictions).ravel()\n",
    "    evaluate(labels, predictions, 'Train,')\n",
    "\n",
    "def test(epoch, model, test_loader, criterion):\n",
    "    model.eval() #추론 모드\n",
    "    labels = []\n",
    "    predictions = []\n",
    "    for batch in test_loader:  \n",
    "        batch.to(device) \n",
    "        labels.append(batch.y.float().cpu().detach().numpy())\n",
    "        prediction = model(batch.x.float(), batch.edge_attr.float(), batch.edge_index, batch.edge_weight, batch.batch,)\n",
    "        predictions.append(torch.sigmoid(prediction).cpu().detach().numpy()) #시그모이드 적용\n",
    "    labels = np.concatenate(labels).ravel()\n",
    "    predictions = np.concatenate(predictions).ravel()\n",
    "    return evaluate(labels, predictions, 'Test,')"
   ]
  },
  {
   "cell_type": "code",
   "execution_count": 13,
   "metadata": {},
   "outputs": [
    {
     "name": "stdout",
     "output_type": "stream",
     "text": [
      "GNN(\n",
      "  (conv1): GATConv(31, 256, heads=8)\n",
      "  (norm1): GraphNorm(256)\n",
      "  (conv2): GATConv(256, 256, heads=8)\n",
      "  (norm2): GraphNorm(256)\n",
      "  (conv3): GATConv(256, 256, heads=8)\n",
      "  (norm3): GraphNorm(256)\n",
      "  (conv4): GATConv(256, 256, heads=8)\n",
      "  (norm4): GraphNorm(256)\n",
      "  (conv5): Conv1d(8, 16, kernel_size=(9,), stride=(1,), padding=same)\n",
      "  (norm5): BatchNorm1d(16, eps=1e-05, momentum=0.1, affine=True, track_running_stats=True)\n",
      "  (pool5): AvgPool1d(kernel_size=(2,), stride=(2,), padding=(0,))\n",
      "  (conv6): Conv1d(16, 32, kernel_size=(9,), stride=(1,), padding=same)\n",
      "  (norm6): BatchNorm1d(32, eps=1e-05, momentum=0.1, affine=True, track_running_stats=True)\n",
      "  (pool6): AvgPool1d(kernel_size=(2,), stride=(2,), padding=(0,))\n",
      "  (lin7): Linear(in_features=256, out_features=1, bias=True)\n",
      ")\n"
     ]
    }
   ],
   "source": [
    "hyperparameters = {\n",
    "    \"in_channels\": trainset[0].x.shape[1],\n",
    "    \"channels\": 256,\n",
    "    \"heads\": 8,\n",
    "    \"dropout_rate\": 0.1,\n",
    "    \"edge_dim\": trainset[0].edge_attr.shape[1],\n",
    "    \"kernel_size\": 9,\n",
    "}\n",
    "\n",
    "model = GNN(hyperparameters=hyperparameters)\n",
    "model = model.to(device)\n",
    "print(model)"
   ]
  },
  {
   "cell_type": "code",
   "execution_count": 14,
   "metadata": {},
   "outputs": [
    {
     "name": "stdout",
     "output_type": "stream",
     "text": [
      "conv1.att_src 2048\n",
      "conv1.att_dst 2048\n",
      "conv1.att_edge 2048\n",
      "conv1.bias 256\n",
      "conv1.lin_src.weight 63488\n",
      "conv1.lin_edge.weight 24576\n",
      "norm1.weight 256\n",
      "norm1.bias 256\n",
      "norm1.mean_scale 256\n",
      "conv2.att_src 2048\n",
      "conv2.att_dst 2048\n",
      "conv2.att_edge 2048\n",
      "conv2.bias 256\n",
      "conv2.lin_src.weight 524288\n",
      "conv2.lin_edge.weight 24576\n",
      "norm2.weight 256\n",
      "norm2.bias 256\n",
      "norm2.mean_scale 256\n",
      "conv3.att_src 2048\n",
      "conv3.att_dst 2048\n",
      "conv3.att_edge 2048\n",
      "conv3.bias 256\n",
      "conv3.lin_src.weight 524288\n",
      "conv3.lin_edge.weight 24576\n",
      "norm3.weight 256\n",
      "norm3.bias 256\n",
      "norm3.mean_scale 256\n",
      "conv4.att_src 2048\n",
      "conv4.att_dst 2048\n",
      "conv4.att_edge 2048\n",
      "conv4.bias 256\n",
      "conv4.lin_src.weight 524288\n",
      "conv4.lin_edge.weight 24576\n",
      "norm4.weight 256\n",
      "norm4.bias 256\n",
      "norm4.mean_scale 256\n",
      "conv5.weight 1152\n",
      "conv5.bias 16\n",
      "norm5.weight 16\n",
      "norm5.bias 16\n",
      "conv6.weight 4608\n",
      "conv6.bias 32\n",
      "norm6.weight 32\n",
      "norm6.bias 32\n",
      "lin7.weight 256\n",
      "lin7.bias 1\n"
     ]
    },
    {
     "data": {
      "text/plain": [
       "1769489"
      ]
     },
     "execution_count": 14,
     "metadata": {},
     "output_type": "execute_result"
    }
   ],
   "source": [
    "parameters = 0\n",
    "for name, parameter in model.named_parameters():\n",
    "    if parameter.requires_grad:\n",
    "        print(name, parameter.numel())\n",
    "        parameters += parameter.numel()\n",
    "parameters"
   ]
  },
  {
   "cell_type": "code",
   "execution_count": 15,
   "metadata": {},
   "outputs": [
    {
     "data": {
      "text/plain": [
       "tensor([2.8409], device='cuda:0')"
      ]
     },
     "execution_count": 15,
     "metadata": {},
     "output_type": "execute_result"
    }
   ],
   "source": [
    "trainset_raw = pd.read_csv('iedb_sequences/raw/iedb_trainset.csv')\n",
    "pos_weight = (trainset_raw['binding']==0).sum()/trainset_raw['binding'].sum()\n",
    "pos_weight = torch.tensor([pos_weight], dtype=torch.float).to(device)\n",
    "pos_weight"
   ]
  },
  {
   "cell_type": "code",
   "execution_count": 16,
   "metadata": {},
   "outputs": [
    {
     "name": "stdout",
     "output_type": "stream",
     "text": [
      "Epoch 0\n"
     ]
    },
    {
     "name": "stderr",
     "output_type": "stream",
     "text": [
      "100%|██████████| 1964/1964 [08:27<00:00,  3.87it/s]\n"
     ]
    },
    {
     "name": "stdout",
     "output_type": "stream",
     "text": [
      "Train, ROC AUC: 0.6807808245495387\n",
      "Train, F1-score: 0.46805277184327027\n",
      "Train, Precision: 0.3658414818895469\n",
      "Train, Recall: 0.6495201418179596\n",
      "Train, PR AUC 0.434656186199152\n",
      "Train, Accuracy: 0.6156190567133775\n",
      "Train, Optimal threshold: 0.49284852\n",
      "Test, ROC AUC: 0.7180876216154006\n",
      "Test, F1-score: 0.49437673521246067\n",
      "Test, Precision: 0.40206659012629165\n",
      "Test, Recall: 0.6417053505985829\n",
      "Test, PR AUC 0.4867464659242218\n",
      "Test, Accuracy: 0.6579877136582105\n",
      "Test, Optimal threshold: 0.62458026\n",
      "\n",
      "Epoch 1\n"
     ]
    },
    {
     "name": "stderr",
     "output_type": "stream",
     "text": [
      "100%|██████████| 1964/1964 [08:27<00:00,  3.87it/s]\n"
     ]
    },
    {
     "name": "stdout",
     "output_type": "stream",
     "text": [
      "Train, ROC AUC: 0.7329544354803288\n",
      "Train, F1-score: 0.5101158179714442\n",
      "Train, Precision: 0.4032788049945827\n",
      "Train, Recall: 0.6939605110336817\n",
      "Train, PR AUC 0.49885667866540084\n",
      "Train, Accuracy: 0.6529797003190972\n",
      "Train, Optimal threshold: 0.4957959\n",
      "Test, ROC AUC: 0.7560193365094071\n",
      "Test, F1-score: 0.529635823114084\n",
      "Test, Precision: 0.427297256783091\n",
      "Test, Recall: 0.6964329342780357\n",
      "Test, PR AUC 0.5355362302086288\n",
      "Test, Accuracy: 0.6776904223827864\n",
      "Test, Optimal threshold: 0.4303698\n",
      "\n",
      "Epoch 2\n"
     ]
    },
    {
     "name": "stderr",
     "output_type": "stream",
     "text": [
      "100%|██████████| 1964/1964 [08:26<00:00,  3.87it/s]\n"
     ]
    },
    {
     "name": "stdout",
     "output_type": "stream",
     "text": [
      "Train, ROC AUC: 0.7572540197490598\n",
      "Train, F1-score: 0.5323355146291988\n",
      "Train, Precision: 0.4258420579768606\n",
      "Train, Recall: 0.7098539030503087\n",
      "Train, PR AUC 0.5278113168177923\n",
      "Train, Accuracy: 0.6752767234039166\n",
      "Train, Optimal threshold: 0.4994846\n",
      "Test, ROC AUC: 0.7832829279831074\n",
      "Test, F1-score: 0.5560150721441045\n",
      "Test, Precision: 0.44563936358279316\n",
      "Test, Recall: 0.7390666992426094\n",
      "Test, PR AUC 0.5626810634782751\n",
      "Test, Accuracy: 0.692459496450966\n",
      "Test, Optimal threshold: 0.45047835\n",
      "\n",
      "Epoch 3\n"
     ]
    },
    {
     "name": "stderr",
     "output_type": "stream",
     "text": [
      "100%|██████████| 1964/1964 [08:26<00:00,  3.87it/s]\n"
     ]
    },
    {
     "name": "stdout",
     "output_type": "stream",
     "text": [
      "Train, ROC AUC: 0.7814397847131231\n",
      "Train, F1-score: 0.5550695825049702\n",
      "Train, Precision: 0.43457507523088096\n",
      "Train, Recall: 0.7680176049880799\n",
      "Train, PR AUC 0.5561740751313758\n",
      "Train, Accuracy: 0.6794385160782067\n",
      "Train, Optimal threshold: 0.47301587\n",
      "Test, ROC AUC: 0.8057044097300292\n",
      "Test, F1-score: 0.5803495512517713\n",
      "Test, Precision: 0.473120764017252\n",
      "Test, Recall: 0.7504275592474957\n",
      "Test, PR AUC 0.5923125088201172\n",
      "Test, Accuracy: 0.7172231594359741\n",
      "Test, Optimal threshold: 0.5650513\n",
      "\n",
      "Epoch 4\n"
     ]
    },
    {
     "name": "stderr",
     "output_type": "stream",
     "text": [
      "100%|██████████| 1964/1964 [08:26<00:00,  3.88it/s]\n"
     ]
    },
    {
     "name": "stdout",
     "output_type": "stream",
     "text": [
      "Train, ROC AUC: 0.8032578737516437\n",
      "Train, F1-score: 0.57813882035287\n",
      "Train, Precision: 0.46682704958087434\n",
      "Train, Recall: 0.7591539825172687\n",
      "Train, PR AUC 0.5878358156722193\n",
      "Train, Accuracy: 0.7115551417635497\n",
      "Train, Optimal threshold: 0.49294147\n",
      "Test, ROC AUC: 0.8306463000908361\n",
      "Test, F1-score: 0.6048793784925719\n",
      "Test, Precision: 0.4815189873417722\n",
      "Test, Recall: 0.8132176887368678\n",
      "Test, PR AUC 0.6254125718058938\n",
      "Test, Accuracy: 0.7231753509246587\n",
      "Test, Optimal threshold: 0.47764778\n",
      "\n",
      "Epoch 5\n"
     ]
    },
    {
     "name": "stderr",
     "output_type": "stream",
     "text": [
      "100%|██████████| 1964/1964 [08:27<00:00,  3.87it/s]\n"
     ]
    },
    {
     "name": "stdout",
     "output_type": "stream",
     "text": [
      "Train, ROC AUC: 0.8173660857701905\n",
      "Train, F1-score: 0.5923350638744678\n",
      "Train, Precision: 0.4790082457497594\n",
      "Train, Recall: 0.7759031725655603\n",
      "Train, PR AUC 0.6066044490138243\n",
      "Train, Accuracy: 0.7219397296028393\n",
      "Train, Optimal threshold: 0.48943314\n",
      "Test, ROC AUC: 0.8407238381892448\n",
      "Test, F1-score: 0.6182770554672155\n",
      "Test, Precision: 0.5009093664746893\n",
      "Test, Recall: 0.8074761788419252\n",
      "Test, PR AUC 0.6414222819853956\n",
      "Test, Accuracy: 0.7402043479644779\n",
      "Test, Optimal threshold: 0.51448977\n",
      "\n",
      "Epoch 6\n"
     ]
    },
    {
     "name": "stderr",
     "output_type": "stream",
     "text": [
      "100%|██████████| 1964/1964 [08:27<00:00,  3.87it/s]\n"
     ]
    },
    {
     "name": "stdout",
     "output_type": "stream",
     "text": [
      "Train, ROC AUC: 0.8273734607793346\n",
      "Train, F1-score: 0.6055052413891464\n",
      "Train, Precision: 0.4953908984830805\n",
      "Train, Recall: 0.7785622593068036\n",
      "Train, PR AUC 0.6173397196720358\n",
      "Train, Accuracy: 0.7358733796462078\n",
      "Train, Optimal threshold: 0.49655867\n",
      "Test, ROC AUC: 0.8492892867703765\n",
      "Test, F1-score: 0.6338590342679129\n",
      "Test, Precision: 0.5268651885418353\n",
      "Test, Recall: 0.7953823601270462\n",
      "Test, PR AUC 0.6559744664727887\n",
      "Test, Accuracy: 0.7605754846102428\n",
      "Test, Optimal threshold: 0.5786239\n",
      "\n",
      "Epoch 7\n"
     ]
    },
    {
     "name": "stderr",
     "output_type": "stream",
     "text": [
      "100%|██████████| 1964/1964 [08:28<00:00,  3.86it/s]\n"
     ]
    },
    {
     "name": "stdout",
     "output_type": "stream",
     "text": [
      "Train, ROC AUC: 0.8371884417650871\n",
      "Train, F1-score: 0.6155126927361201\n",
      "Train, Precision: 0.499305648030133\n",
      "Train, Recall: 0.8022189620392445\n",
      "Train, PR AUC 0.6362810017534999\n",
      "Train, Accuracy: 0.7390643526144492\n",
      "Train, Optimal threshold: 0.47943416\n",
      "Test, ROC AUC: 0.8567515401014485\n",
      "Test, F1-score: 0.6401489829051666\n",
      "Test, Precision: 0.5254782063342741\n",
      "Test, Recall: 0.8188370388468116\n",
      "Test, PR AUC 0.6649678644777526\n",
      "Test, Accuracy: 0.7601298659961168\n",
      "Test, Optimal threshold: 0.45705286\n",
      "\n",
      "Epoch 8\n"
     ]
    },
    {
     "name": "stderr",
     "output_type": "stream",
     "text": [
      "100%|██████████| 1964/1964 [08:28<00:00,  3.87it/s]\n"
     ]
    },
    {
     "name": "stdout",
     "output_type": "stream",
     "text": [
      "Train, ROC AUC: 0.8460606078398634\n",
      "Train, F1-score: 0.6278278084936865\n",
      "Train, Precision: 0.5188347964884278\n",
      "Train, Recall: 0.794791857693013\n",
      "Train, PR AUC 0.6497094135667227\n",
      "Train, Accuracy: 0.7546690857583932\n",
      "Train, Optimal threshold: 0.49700278\n",
      "Test, ROC AUC: 0.8598538181040539\n",
      "Test, F1-score: 0.6481490783062938\n",
      "Test, Precision: 0.5503710654269385\n",
      "Test, Recall: 0.7881749328121183\n",
      "Test, PR AUC 0.6688078927779462\n",
      "Test, Accuracy: 0.7770315434319\n",
      "Test, Optimal threshold: 0.50577956\n",
      "\n",
      "Epoch 9\n"
     ]
    },
    {
     "name": "stderr",
     "output_type": "stream",
     "text": [
      "100%|██████████| 1964/1964 [08:27<00:00,  3.87it/s]\n"
     ]
    },
    {
     "name": "stdout",
     "output_type": "stream",
     "text": [
      "Train, ROC AUC: 0.851459673948254\n",
      "Train, F1-score: 0.6329204298004498\n",
      "Train, Precision: 0.5182089203250132\n",
      "Train, Recall: 0.8128553090042179\n",
      "Train, PR AUC 0.6579424564159547\n",
      "Train, Accuracy: 0.7545178925254841\n",
      "Train, Optimal threshold: 0.48133466\n",
      "Test, ROC AUC: 0.8703080659333238\n",
      "Test, F1-score: 0.6612627127177525\n",
      "Test, Precision: 0.5624357656731758\n",
      "Test, Recall: 0.8022233080869777\n",
      "Test, PR AUC 0.6906151397102176\n",
      "Test, Accuracy: 0.7858484260113952\n",
      "Test, Optimal threshold: 0.5355816\n",
      "\n",
      "Epoch 10\n"
     ]
    },
    {
     "name": "stderr",
     "output_type": "stream",
     "text": [
      "100%|██████████| 1964/1964 [08:28<00:00,  3.86it/s]\n"
     ]
    },
    {
     "name": "stdout",
     "output_type": "stream",
     "text": [
      "Train, ROC AUC: 0.8566297565415969\n",
      "Train, F1-score: 0.6382677882426248\n",
      "Train, Precision: 0.524932986439609\n",
      "Train, Recall: 0.8140167491900483\n",
      "Train, PR AUC 0.6689023997007311\n",
      "Train, Accuracy: 0.7597778255230092\n",
      "Train, Optimal threshold: 0.48378086\n",
      "Test, ROC AUC: 0.8672388348580493\n",
      "Test, F1-score: 0.6560743094597898\n",
      "Test, Precision: 0.5469068383731356\n",
      "Test, Recall: 0.8196921573418031\n",
      "Test, PR AUC 0.6875968300003636\n",
      "Test, Accuracy: 0.7760766464016297\n",
      "Test, Optimal threshold: 0.5423333\n",
      "\n",
      "Epoch 11\n"
     ]
    },
    {
     "name": "stderr",
     "output_type": "stream",
     "text": [
      "100%|██████████| 1964/1964 [08:27<00:00,  3.87it/s]\n"
     ]
    },
    {
     "name": "stdout",
     "output_type": "stream",
     "text": [
      "Train, ROC AUC: 0.8583658568527698\n",
      "Train, F1-score: 0.6441097232427136\n",
      "Train, Precision: 0.5373503330472804\n",
      "Train, Recall: 0.8038083012409072\n",
      "Train, PR AUC 0.6696338592199603\n",
      "Train, Accuracy: 0.7687380139575226\n",
      "Train, Optimal threshold: 0.5034916\n",
      "Test, ROC AUC: 0.8751817659880424\n",
      "Test, F1-score: 0.666800401203611\n",
      "Test, Precision: 0.5655946911689638\n",
      "Test, Recall: 0.8121182506718788\n",
      "Test, PR AUC 0.6974721127367176\n",
      "Test, Accuracy: 0.7885221376961518\n",
      "Test, Optimal threshold: 0.5196297\n",
      "\n",
      "Epoch 12\n"
     ]
    },
    {
     "name": "stderr",
     "output_type": "stream",
     "text": [
      "100%|██████████| 1964/1964 [08:27<00:00,  3.87it/s]\n"
     ]
    },
    {
     "name": "stdout",
     "output_type": "stream",
     "text": [
      "Train, ROC AUC: 0.8635121890360062\n",
      "Train, F1-score: 0.6493921009672783\n",
      "Train, Precision: 0.5398841354723708\n",
      "Train, Recall: 0.8146280334983801\n",
      "Train, PR AUC 0.6783166568311132\n",
      "Train, Accuracy: 0.7709820398354381\n",
      "Train, Optimal threshold: 0.49414364\n",
      "Test, ROC AUC: 0.8769642676607918\n",
      "Test, F1-score: 0.6630791942473452\n",
      "Test, Precision: 0.5433544056817295\n",
      "Test, Recall: 0.8504764231614952\n",
      "Test, PR AUC 0.7063782895624353\n",
      "Test, Accuracy: 0.7748034503612694\n",
      "Test, Optimal threshold: 0.43768898\n",
      "\n",
      "Epoch 13\n"
     ]
    },
    {
     "name": "stderr",
     "output_type": "stream",
     "text": [
      "100%|██████████| 1964/1964 [08:26<00:00,  3.88it/s]\n"
     ]
    },
    {
     "name": "stdout",
     "output_type": "stream",
     "text": [
      "Train, ROC AUC: 0.868115903390289\n",
      "Train, F1-score: 0.6537657283067216\n",
      "Train, Precision: 0.5407177846646006\n",
      "Train, Recall: 0.8265786417262669\n",
      "Train, PR AUC 0.6893870785478948\n",
      "Train, Accuracy: 0.7720563075429508\n",
      "Train, Optimal threshold: 0.4847096\n",
      "Test, ROC AUC: 0.8796572543808225\n",
      "Test, F1-score: 0.67007299270073\n",
      "Test, Precision: 0.556858621805241\n",
      "Test, Recall: 0.8410701197165893\n",
      "Test, PR AUC 0.7075838289862134\n",
      "Test, Accuracy: 0.7841932711589267\n",
      "Test, Optimal threshold: 0.5143142\n",
      "\n",
      "Epoch 14\n"
     ]
    },
    {
     "name": "stderr",
     "output_type": "stream",
     "text": [
      "100%|██████████| 1964/1964 [08:26<00:00,  3.88it/s]\n"
     ]
    },
    {
     "name": "stdout",
     "output_type": "stream",
     "text": [
      "Train, ROC AUC: 0.8706739385527811\n",
      "Train, F1-score: 0.656902901175298\n",
      "Train, Precision: 0.5452894529752417\n",
      "Train, Recall: 0.825967357417935\n",
      "Train, PR AUC 0.6935057386600968\n",
      "Train, Accuracy: 0.7753666435898048\n",
      "Train, Optimal threshold: 0.48604894\n",
      "Test, ROC AUC: 0.8844934930129451\n",
      "Test, F1-score: 0.6785047671896282\n",
      "Test, Precision: 0.5778980836985478\n",
      "Test, Recall: 0.8215245541167847\n",
      "Test, PR AUC 0.7200345410211593\n",
      "Test, Accuracy: 0.7971480408695929\n",
      "Test, Optimal threshold: 0.5663012\n",
      "\n",
      "Epoch 15\n"
     ]
    },
    {
     "name": "stderr",
     "output_type": "stream",
     "text": [
      "100%|██████████| 1964/1964 [08:26<00:00,  3.88it/s]\n"
     ]
    },
    {
     "name": "stdout",
     "output_type": "stream",
     "text": [
      "Train, ROC AUC: 0.873722990570144\n",
      "Train, F1-score: 0.6612080044060952\n",
      "Train, Precision: 0.551411598995652\n",
      "Train, Recall: 0.825600586832936\n",
      "Train, PR AUC 0.6989404601454196\n",
      "Train, Accuracy: 0.779727374728449\n",
      "Train, Optimal threshold: 0.49020314\n",
      "Test, ROC AUC: 0.8777676742481736\n",
      "Test, F1-score: 0.6731668090666936\n",
      "Test, Precision: 0.5718555204508582\n",
      "Test, Recall: 0.818104080136819\n",
      "Test, PR AUC 0.7050341327865306\n",
      "Test, Accuracy: 0.7930101537384219\n",
      "Test, Optimal threshold: 0.44528443\n",
      "\n",
      "Epoch 16\n"
     ]
    },
    {
     "name": "stderr",
     "output_type": "stream",
     "text": [
      "100%|██████████| 1964/1964 [08:27<00:00,  3.87it/s]\n"
     ]
    },
    {
     "name": "stdout",
     "output_type": "stream",
     "text": [
      "Train, ROC AUC: 0.8762069028491166\n",
      "Train, F1-score: 0.6649172286940527\n",
      "Train, Precision: 0.5552096985583224\n",
      "Train, Recall: 0.828657008374595\n",
      "Train, PR AUC 0.7053230911960688\n",
      "Train, Accuracy: 0.7825523009222787\n",
      "Train, Optimal threshold: 0.4936312\n",
      "Test, ROC AUC: 0.886071192604581\n",
      "Test, F1-score: 0.677028683500858\n",
      "Test, Precision: 0.5654844786632812\n",
      "Test, Recall: 0.8433911556315661\n",
      "Test, PR AUC 0.7269297644921149\n",
      "Test, Accuracy: 0.7903364420536653\n",
      "Test, Optimal threshold: 0.47485867\n",
      "\n",
      "Epoch 17\n"
     ]
    },
    {
     "name": "stderr",
     "output_type": "stream",
     "text": [
      "100%|██████████| 1964/1964 [08:28<00:00,  3.86it/s]\n"
     ]
    },
    {
     "name": "stdout",
     "output_type": "stream",
     "text": [
      "Train, ROC AUC: 0.8762548436409298\n",
      "Train, F1-score: 0.6668156313620339\n",
      "Train, Precision: 0.5614365149044692\n",
      "Train, Recall: 0.8208936976587811\n",
      "Train, PR AUC 0.7047707868682488\n",
      "Train, Accuracy: 0.7864196646693244\n",
      "Train, Optimal threshold: 0.50223315\n",
      "Test, ROC AUC: 0.8853915575267943\n",
      "Test, F1-score: 0.677778327315891\n",
      "Test, Precision: 0.5694340563450511\n",
      "Test, Recall: 0.8370388468116297\n",
      "Test, PR AUC 0.7246903212269087\n",
      "Test, Accuracy: 0.7926281949263138\n",
      "Test, Optimal threshold: 0.43344328\n",
      "\n",
      "Epoch 18\n"
     ]
    },
    {
     "name": "stderr",
     "output_type": "stream",
     "text": [
      "100%|██████████| 1964/1964 [08:27<00:00,  3.87it/s]\n"
     ]
    },
    {
     "name": "stdout",
     "output_type": "stream",
     "text": [
      "Train, ROC AUC: 0.8794757487953438\n",
      "Train, F1-score: 0.6691452560046288\n",
      "Train, Precision: 0.5602234544742429\n",
      "Train, Recall: 0.8306436823766734\n",
      "Train, PR AUC 0.7120534725765517\n",
      "Train, Accuracy: 0.7861411508192286\n",
      "Train, Optimal threshold: 0.49132484\n",
      "Test, ROC AUC: 0.8873444313726772\n",
      "Test, F1-score: 0.678324082715261\n",
      "Test, Precision: 0.5672389714942906\n",
      "Test, Recall: 0.8435133154165648\n",
      "Test, PR AUC 0.7260538646640594\n",
      "Test, Accuracy: 0.7915459782920075\n",
      "Test, Optimal threshold: 0.5103674\n",
      "\n",
      "Epoch 19\n"
     ]
    },
    {
     "name": "stderr",
     "output_type": "stream",
     "text": [
      "100%|██████████| 1964/1964 [08:27<00:00,  3.87it/s]\n"
     ]
    },
    {
     "name": "stdout",
     "output_type": "stream",
     "text": [
      "Train, ROC AUC: 0.8813690126835598\n",
      "Train, F1-score: 0.6713740411468433\n",
      "Train, Precision: 0.5585519774355229\n",
      "Train, Recall: 0.8413105935570634\n",
      "Train, PR AUC 0.713278053224505\n",
      "Train, Accuracy: 0.7855682080418885\n",
      "Train, Optimal threshold: 0.4819253\n",
      "Test, ROC AUC: 0.8892742993617583\n",
      "Test, F1-score: 0.6826828789958815\n",
      "Test, Precision: 0.5701883701883702\n",
      "Test, Recall: 0.8504764231614952\n",
      "Test, PR AUC 0.7259423378535916\n",
      "Test, Accuracy: 0.7939968806697011\n",
      "Test, Optimal threshold: 0.40828025\n",
      "\n",
      "Epoch 20\n"
     ]
    },
    {
     "name": "stderr",
     "output_type": "stream",
     "text": [
      "100%|██████████| 1964/1964 [08:27<00:00,  3.87it/s]\n"
     ]
    },
    {
     "name": "stdout",
     "output_type": "stream",
     "text": [
      "Train, ROC AUC: 0.8840613276386619\n",
      "Train, F1-score: 0.6719819699741908\n",
      "Train, Precision: 0.5566842665274738\n",
      "Train, Recall: 0.8475151292866312\n",
      "Train, PR AUC 0.7210527077011162\n",
      "Train, Accuracy: 0.7845814732586917\n",
      "Train, Optimal threshold: 0.46993002\n",
      "Test, ROC AUC: 0.8936908244008648\n",
      "Test, F1-score: 0.6905210918114144\n",
      "Test, Precision: 0.581494483450351\n",
      "Test, Recall: 0.8498656242365014\n",
      "Test, PR AUC 0.7355610557664924\n",
      "Test, Accuracy: 0.801508737307827\n",
      "Test, Optimal threshold: 0.5833041\n",
      "\n",
      "Epoch 21\n"
     ]
    },
    {
     "name": "stderr",
     "output_type": "stream",
     "text": [
      "100%|██████████| 1964/1964 [08:26<00:00,  3.88it/s]\n"
     ]
    },
    {
     "name": "stdout",
     "output_type": "stream",
     "text": [
      "Train, ROC AUC: 0.8841978837417348\n",
      "Train, F1-score: 0.6766057895390732\n",
      "Train, Precision: 0.5699991626894415\n",
      "Train, Recall: 0.8322635857937527\n",
      "Train, PR AUC 0.717218783292105\n",
      "Train, Accuracy: 0.7928652709144007\n",
      "Train, Optimal threshold: 0.49681365\n",
      "Test, ROC AUC: 0.8909184162046714\n",
      "Test, F1-score: 0.684674861221253\n",
      "Test, Precision: 0.5760633861551293\n",
      "Test, Recall: 0.8437576349865624\n",
      "Test, PR AUC 0.7328240194425044\n",
      "Test, Accuracy: 0.797498169780692\n",
      "Test, Optimal threshold: 0.5062377\n",
      "\n",
      "Epoch 22\n"
     ]
    },
    {
     "name": "stderr",
     "output_type": "stream",
     "text": [
      "100%|██████████| 1964/1964 [08:26<00:00,  3.88it/s]\n"
     ]
    },
    {
     "name": "stdout",
     "output_type": "stream",
     "text": [
      "Train, ROC AUC: 0.8863615096847703\n",
      "Train, F1-score: 0.6808076789177898\n",
      "Train, Precision: 0.5738419618528611\n",
      "Train, Recall: 0.836787089675408\n",
      "Train, PR AUC 0.722550339392587\n",
      "Train, Accuracy: 0.795714069723953\n",
      "Train, Optimal threshold: 0.49568453\n",
      "Test, ROC AUC: 0.8932238449463937\n",
      "Test, F1-score: 0.6945964254077432\n",
      "Test, Precision: 0.6056338028169014\n",
      "Test, Recall: 0.814194967016858\n",
      "Test, PR AUC 0.7413789066542664\n",
      "Test, Accuracy: 0.8134449501862049\n",
      "Test, Optimal threshold: 0.6506974\n",
      "\n",
      "Epoch 23\n"
     ]
    },
    {
     "name": "stderr",
     "output_type": "stream",
     "text": [
      "100%|██████████| 1964/1964 [08:26<00:00,  3.88it/s]\n"
     ]
    },
    {
     "name": "stdout",
     "output_type": "stream",
     "text": [
      "Train, ROC AUC: 0.8872935540054888\n",
      "Train, F1-score: 0.679878615222642\n",
      "Train, Precision: 0.5715684028573214\n",
      "Train, Recall: 0.8388348921083196\n",
      "Train, PR AUC 0.7245942199302724\n",
      "Train, Accuracy: 0.7943374155506219\n",
      "Train, Optimal threshold: 0.49132338\n",
      "Test, ROC AUC: 0.8962381538110692\n",
      "Test, F1-score: 0.6931108557725935\n",
      "Test, Precision: 0.586340968641704\n",
      "Test, Recall: 0.8474224285365258\n",
      "Test, PR AUC 0.7459700702819909\n",
      "Test, Accuracy: 0.8044689181016647\n",
      "Test, Optimal threshold: 0.4487916\n",
      "\n",
      "Epoch 24\n"
     ]
    },
    {
     "name": "stderr",
     "output_type": "stream",
     "text": [
      "100%|██████████| 1964/1964 [08:26<00:00,  3.88it/s]\n"
     ]
    },
    {
     "name": "stdout",
     "output_type": "stream",
     "text": [
      "Train, ROC AUC: 0.8892990160773062\n",
      "Train, F1-score: 0.6842550860330188\n",
      "Train, Precision: 0.5772899159663866\n",
      "Train, Recall: 0.8398740754324836\n",
      "Train, PR AUC 0.7297320457908036\n",
      "Train, Accuracy: 0.7981968217590935\n",
      "Train, Optimal threshold: 0.49511227\n",
      "Test, ROC AUC: 0.896604320286413\n",
      "Test, F1-score: 0.6897121742512642\n",
      "Test, Precision: 0.5728476821192053\n",
      "Test, Recall: 0.8664793549963352\n",
      "Test, PR AUC 0.7487468198356437\n",
      "Test, Accuracy: 0.7968615717605119\n",
      "Test, Optimal threshold: 0.42921767\n",
      "\n",
      "Epoch 25\n"
     ]
    },
    {
     "name": "stderr",
     "output_type": "stream",
     "text": [
      "100%|██████████| 1964/1964 [08:26<00:00,  3.88it/s]\n"
     ]
    },
    {
     "name": "stdout",
     "output_type": "stream",
     "text": [
      "Train, ROC AUC: 0.8904745302574983\n",
      "Train, F1-score: 0.6875482882221068\n",
      "Train, Precision: 0.5870444468476262\n",
      "Train, Recall: 0.8295739348370927\n",
      "Train, PR AUC 0.7344373064211958\n",
      "Train, Accuracy: 0.8036954809138437\n",
      "Train, Optimal threshold: 0.51149654\n",
      "Test, ROC AUC: 0.8976894605400547\n",
      "Test, F1-score: 0.6978021978021978\n",
      "Test, Precision: 0.5902484367077911\n",
      "Test, Recall: 0.8532860982164672\n",
      "Test, PR AUC 0.7499022722673452\n",
      "Test, Accuracy: 0.8074290988955024\n",
      "Test, Optimal threshold: 0.5237064\n",
      "\n",
      "Epoch 26\n"
     ]
    },
    {
     "name": "stderr",
     "output_type": "stream",
     "text": [
      "100%|██████████| 1964/1964 [08:26<00:00,  3.87it/s]\n"
     ]
    },
    {
     "name": "stdout",
     "output_type": "stream",
     "text": [
      "Train, ROC AUC: 0.8929347296127339\n",
      "Train, F1-score: 0.6885270428646235\n",
      "Train, Precision: 0.5814521563342318\n",
      "Train, Recall: 0.8439391160828902\n",
      "Train, PR AUC 0.7372660348047425\n",
      "Train, Accuracy: 0.801204771340129\n",
      "Train, Optimal threshold: 0.49298927\n",
      "Test, ROC AUC: 0.9000340202722668\n",
      "Test, F1-score: 0.6996067359080368\n",
      "Test, Precision: 0.5956387362637363\n",
      "Test, Recall: 0.8475445883215246\n",
      "Test, PR AUC 0.7548849982264562\n",
      "Test, Accuracy: 0.8103574497883311\n",
      "Test, Optimal threshold: 0.5312066\n",
      "\n",
      "Epoch 27\n"
     ]
    },
    {
     "name": "stderr",
     "output_type": "stream",
     "text": [
      "100%|██████████| 1964/1964 [08:27<00:00,  3.87it/s]\n"
     ]
    },
    {
     "name": "stdout",
     "output_type": "stream",
     "text": [
      "Train, ROC AUC: 0.89248178657822\n",
      "Train, F1-score: 0.6886544854650436\n",
      "Train, Precision: 0.5825228349120433\n",
      "Train, Recall: 0.8420746989424781\n",
      "Train, PR AUC 0.7383525644322865\n",
      "Train, Accuracy: 0.8017617990403209\n",
      "Train, Optimal threshold: 0.49672675\n",
      "Test, ROC AUC: 0.9001288228069768\n",
      "Test, F1-score: 0.7085542043446628\n",
      "Test, Precision: 0.6165882778581766\n",
      "Test, Recall: 0.8327632543366724\n",
      "Test, PR AUC 0.7539054066751183\n",
      "Test, Accuracy: 0.821497915141484\n",
      "Test, Optimal threshold: 0.5680507\n",
      "\n",
      "Epoch 28\n"
     ]
    },
    {
     "name": "stderr",
     "output_type": "stream",
     "text": [
      "100%|██████████| 1964/1964 [08:28<00:00,  3.87it/s]\n"
     ]
    },
    {
     "name": "stdout",
     "output_type": "stream",
     "text": [
      "Train, ROC AUC: 0.8944300304750177\n",
      "Train, F1-score: 0.6913101503286078\n",
      "Train, Precision: 0.5877793953926522\n",
      "Train, Recall: 0.8391099700470689\n",
      "Train, PR AUC 0.7414154315214291\n",
      "Train, Accuracy: 0.8048970692385431\n",
      "Train, Optimal threshold: 0.501236\n",
      "Test, ROC AUC: 0.9031552866517664\n",
      "Test, F1-score: 0.7043664996420902\n",
      "Test, Precision: 0.6056982061202955\n",
      "Test, Recall: 0.8414365990715856\n",
      "Test, PR AUC 0.764294186971546\n",
      "Test, Accuracy: 0.8159595123659166\n",
      "Test, Optimal threshold: 0.4697054\n",
      "\n",
      "Epoch 29\n"
     ]
    },
    {
     "name": "stderr",
     "output_type": "stream",
     "text": [
      "100%|██████████| 1964/1964 [08:27<00:00,  3.87it/s]\n"
     ]
    },
    {
     "name": "stdout",
     "output_type": "stream",
     "text": [
      "Train, ROC AUC: 0.8951583368708136\n",
      "Train, F1-score: 0.6873534718727369\n",
      "Train, Precision: 0.5743266804783491\n",
      "Train, Recall: 0.8557674674491106\n",
      "Train, PR AUC 0.7429663019439726\n",
      "Train, Accuracy: 0.7973135349773608\n",
      "Train, Optimal threshold: 0.47278953\n",
      "Test, ROC AUC: 0.8994024529743723\n",
      "Test, F1-score: 0.7059066928726596\n",
      "Test, Precision: 0.6121277359167564\n",
      "Test, Recall: 0.8336183728316638\n",
      "Test, PR AUC 0.7486925407821844\n",
      "Test, Accuracy: 0.8190151828627813\n",
      "Test, Optimal threshold: 0.53242344\n",
      "\n",
      "Epoch 30\n"
     ]
    },
    {
     "name": "stderr",
     "output_type": "stream",
     "text": [
      "100%|██████████| 1964/1964 [08:26<00:00,  3.88it/s]\n"
     ]
    },
    {
     "name": "stdout",
     "output_type": "stream",
     "text": [
      "Train, ROC AUC: 0.8972949083419826\n",
      "Train, F1-score: 0.694248158385132\n",
      "Train, Precision: 0.5875441901818412\n",
      "Train, Recall: 0.8483097988874626\n",
      "Train, PR AUC 0.7469468937776735\n",
      "Train, Accuracy: 0.8054620544773091\n",
      "Train, Optimal threshold: 0.49140197\n",
      "Test, ROC AUC: 0.9029392287908848\n",
      "Test, F1-score: 0.7028657616892912\n",
      "Test, Precision: 0.5972317156527683\n",
      "Test, Recall: 0.853896897141461\n",
      "Test, PR AUC 0.7598553393714804\n",
      "Test, Accuracy: 0.8118852850367635\n",
      "Test, Optimal threshold: 0.50763875\n",
      "\n",
      "Epoch 31\n"
     ]
    },
    {
     "name": "stderr",
     "output_type": "stream",
     "text": [
      "100%|██████████| 1964/1964 [08:26<00:00,  3.88it/s]\n"
     ]
    },
    {
     "name": "stdout",
     "output_type": "stream",
     "text": [
      "Train, ROC AUC: 0.8972692737485675\n",
      "Train, F1-score: 0.6924942463312629\n",
      "Train, Precision: 0.5817671517671518\n",
      "Train, Recall: 0.8552784400024451\n",
      "Train, PR AUC 0.746782086408388\n",
      "Train, Accuracy: 0.8022392513547709\n",
      "Train, Optimal threshold: 0.48162317\n",
      "Test, ROC AUC: 0.9037258003495691\n",
      "Test, F1-score: 0.7069526326489125\n",
      "Test, Precision: 0.6053089643167973\n",
      "Test, Recall: 0.8496213046665038\n",
      "Test, PR AUC 0.7603994627889972\n",
      "Test, Accuracy: 0.8164687907820607\n",
      "Test, Optimal threshold: 0.4994475\n",
      "\n",
      "Epoch 32\n"
     ]
    },
    {
     "name": "stderr",
     "output_type": "stream",
     "text": [
      "100%|██████████| 1964/1964 [08:27<00:00,  3.87it/s]\n"
     ]
    },
    {
     "name": "stdout",
     "output_type": "stream",
     "text": [
      "Train, ROC AUC: 0.8990201722973374\n",
      "Train, F1-score: 0.695061620705554\n",
      "Train, Precision: 0.5867539079758474\n",
      "Train, Recall: 0.8524054037532857\n",
      "Train, PR AUC 0.7516337719311992\n",
      "Train, Accuracy: 0.805271073551529\n",
      "Train, Optimal threshold: 0.48659557\n",
      "Test, ROC AUC: 0.9044913905668499\n",
      "Test, F1-score: 0.7057092108601879\n",
      "Test, Precision: 0.6036114246028301\n",
      "Test, Recall: 0.8493769850965063\n",
      "Test, PR AUC 0.7684796475091484\n",
      "Test, Accuracy: 0.8154184040487634\n",
      "Test, Optimal threshold: 0.47208136\n",
      "\n",
      "Epoch 33\n"
     ]
    },
    {
     "name": "stderr",
     "output_type": "stream",
     "text": [
      "100%|██████████| 1964/1964 [08:27<00:00,  3.87it/s]\n"
     ]
    },
    {
     "name": "stdout",
     "output_type": "stream",
     "text": [
      "Train, ROC AUC: 0.8998432453860948\n",
      "Train, F1-score: 0.6961693021635543\n",
      "Train, Precision: 0.5870454688516334\n",
      "Train, Recall: 0.8551256189253622\n",
      "Train, PR AUC 0.7535242061780759\n",
      "Train, Accuracy: 0.8056689504802375\n",
      "Train, Optimal threshold: 0.48254475\n",
      "Test, ROC AUC: 0.9059634025669571\n",
      "Test, F1-score: 0.7159385070526706\n",
      "Test, Precision: 0.6307362934003538\n",
      "Test, Recall: 0.8277547031517225\n",
      "Test, PR AUC 0.7686505473826907\n",
      "Test, Accuracy: 0.8288506222745647\n",
      "Test, Optimal threshold: 0.54504174\n",
      "\n",
      "Epoch 34\n"
     ]
    },
    {
     "name": "stderr",
     "output_type": "stream",
     "text": [
      "100%|██████████| 1964/1964 [08:27<00:00,  3.87it/s]\n"
     ]
    },
    {
     "name": "stdout",
     "output_type": "stream",
     "text": [
      "Train, ROC AUC: 0.9012587229704886\n",
      "Train, F1-score: 0.699503050890105\n",
      "Train, Precision: 0.5944362477815553\n",
      "Train, Recall: 0.8496851885812091\n",
      "Train, PR AUC 0.755941962321047\n",
      "Train, Accuracy: 0.8099341911559916\n",
      "Train, Optimal threshold: 0.494493\n",
      "Test, ROC AUC: 0.9050388169013865\n",
      "Test, F1-score: 0.7073207853482828\n",
      "Test, Precision: 0.6048590021691974\n",
      "Test, Recall: 0.8515758612264842\n",
      "Test, PR AUC 0.7661178638638679\n",
      "Test, Accuracy: 0.8163733010790336\n",
      "Test, Optimal threshold: 0.52628124\n",
      "\n",
      "Epoch 35\n"
     ]
    },
    {
     "name": "stderr",
     "output_type": "stream",
     "text": [
      "100%|██████████| 1964/1964 [08:26<00:00,  3.88it/s]\n"
     ]
    },
    {
     "name": "stdout",
     "output_type": "stream",
     "text": [
      "Train, ROC AUC: 0.9013886502338906\n",
      "Train, F1-score: 0.7022937646221138\n",
      "Train, Precision: 0.6012845634661441\n",
      "Train, Recall: 0.8440919371599731\n",
      "Train, PR AUC 0.7558821200592178\n",
      "Train, Accuracy: 0.8136821918244249\n",
      "Train, Optimal threshold: 0.50526613\n",
      "Test, ROC AUC: 0.9077921078878874\n",
      "Test, F1-score: 0.7139381652306134\n",
      "Test, Precision: 0.6101004851004851\n",
      "Test, Recall: 0.8603713657463963\n",
      "Test, PR AUC 0.7699887001374943\n",
      "Test, Accuracy: 0.8203520387051596\n",
      "Test, Optimal threshold: 0.53841776\n",
      "\n",
      "Epoch 36\n"
     ]
    },
    {
     "name": "stderr",
     "output_type": "stream",
     "text": [
      "100%|██████████| 1964/1964 [08:27<00:00,  3.87it/s]\n"
     ]
    },
    {
     "name": "stdout",
     "output_type": "stream",
     "text": [
      "Train, ROC AUC: 0.9024400754883147\n",
      "Train, F1-score: 0.7016286727137397\n",
      "Train, Precision: 0.5973919955315904\n",
      "Train, Recall: 0.8499297023045418\n",
      "Train, PR AUC 0.7578230912056281\n",
      "Train, Accuracy: 0.811796255182347\n",
      "Train, Optimal threshold: 0.49897078\n",
      "Test, ROC AUC: 0.9071438107309264\n",
      "Test, F1-score: 0.7084699591383746\n",
      "Test, Precision: 0.6034201254618888\n",
      "Test, Recall: 0.8578060102614219\n",
      "Test, PR AUC 0.7728327347166608\n",
      "Test, Accuracy: 0.8160550020689435\n",
      "Test, Optimal threshold: 0.44197473\n",
      "\n",
      "Epoch 37\n"
     ]
    },
    {
     "name": "stderr",
     "output_type": "stream",
     "text": [
      "100%|██████████| 1964/1964 [08:26<00:00,  3.88it/s]\n"
     ]
    },
    {
     "name": "stdout",
     "output_type": "stream",
     "text": [
      "Train, ROC AUC: 0.9040941659811248\n",
      "Train, F1-score: 0.7020178786786189\n",
      "Train, Precision: 0.591704566889527\n",
      "Train, Recall: 0.8628889296411761\n",
      "Train, PR AUC 0.7625077824522537\n",
      "Train, Accuracy: 0.8092816729929099\n",
      "Train, Optimal threshold: 0.47801888\n",
      "Test, ROC AUC: 0.9066859836636016\n",
      "Test, F1-score: 0.7148590191275342\n",
      "Test, Precision: 0.6233978729206435\n",
      "Test, Recall: 0.8377718055216223\n",
      "Test, PR AUC 0.7698972114315598\n",
      "Test, Accuracy: 0.825858611579718\n",
      "Test, Optimal threshold: 0.4709756\n",
      "\n",
      "Epoch 38\n"
     ]
    },
    {
     "name": "stderr",
     "output_type": "stream",
     "text": [
      "100%|██████████| 1964/1964 [08:27<00:00,  3.87it/s]\n"
     ]
    },
    {
     "name": "stdout",
     "output_type": "stream",
     "text": [
      "Train, ROC AUC: 0.9053590818642667\n",
      "Train, F1-score: 0.7069114580684536\n",
      "Train, Precision: 0.6052161797361432\n",
      "Train, Recall: 0.8496851885812091\n",
      "Train, PR AUC 0.7643616884022703\n",
      "Train, Accuracy: 0.8165628207882738\n",
      "Train, Optimal threshold: 0.50277865\n",
      "Test, ROC AUC: 0.908199616545215\n",
      "Test, F1-score: 0.7107708014293006\n",
      "Test, Precision: 0.6104875482286917\n",
      "Test, Recall: 0.8504764231614952\n",
      "Test, PR AUC 0.7768456532095932\n",
      "Test, Accuracy: 0.8196517808829614\n",
      "Test, Optimal threshold: 0.5775622\n",
      "\n",
      "Epoch 39\n"
     ]
    },
    {
     "name": "stderr",
     "output_type": "stream",
     "text": [
      "100%|██████████| 1964/1964 [08:27<00:00,  3.87it/s]\n"
     ]
    },
    {
     "name": "stdout",
     "output_type": "stream",
     "text": [
      "Train, ROC AUC: 0.9045416072332608\n",
      "Train, F1-score: 0.7040827888355932\n",
      "Train, Precision: 0.5986128058570419\n",
      "Train, Recall: 0.8546671556941133\n",
      "Train, PR AUC 0.763374864091585\n",
      "Train, Accuracy: 0.8129580558141756\n",
      "Train, Optimal threshold: 0.49380574\n",
      "Test, ROC AUC: 0.9105315611801769\n",
      "Test, F1-score: 0.7146685543813521\n",
      "Test, Precision: 0.6096971788456561\n",
      "Test, Recall: 0.863303200586367\n",
      "Test, PR AUC 0.7815208217667168\n",
      "Test, Accuracy: 0.8203838686061686\n",
      "Test, Optimal threshold: 0.49309042\n",
      "\n",
      "Epoch 40\n"
     ]
    },
    {
     "name": "stderr",
     "output_type": "stream",
     "text": [
      "100%|██████████| 1964/1964 [08:28<00:00,  3.87it/s]\n"
     ]
    },
    {
     "name": "stdout",
     "output_type": "stream",
     "text": [
      "Train, ROC AUC: 0.9058312261406534\n",
      "Train, F1-score: 0.7047004125793063\n",
      "Train, Precision: 0.5950030520532952\n",
      "Train, Recall: 0.8639892413961734\n",
      "Train, PR AUC 0.7654362633898333\n",
      "Train, Accuracy: 0.8114779536393802\n",
      "Train, Optimal threshold: 0.4771449\n",
      "Test, ROC AUC: 0.9105478756192007\n",
      "Test, F1-score: 0.7130548697536151\n",
      "Test, Precision: 0.6068090215247406\n",
      "Test, Recall: 0.864402638651356\n",
      "Test, PR AUC 0.7797225698914774\n",
      "Test, Accuracy: 0.8187287137537003\n",
      "Test, Optimal threshold: 0.43888366\n",
      "\n",
      "Epoch 41\n"
     ]
    },
    {
     "name": "stderr",
     "output_type": "stream",
     "text": [
      "100%|██████████| 1964/1964 [08:28<00:00,  3.86it/s]\n"
     ]
    },
    {
     "name": "stdout",
     "output_type": "stream",
     "text": [
      "Train, ROC AUC: 0.9070024039041998\n",
      "Train, F1-score: 0.7051968307442761\n",
      "Train, Precision: 0.5958420309106627\n",
      "Train, Recall: 0.863714163457424\n",
      "Train, PR AUC 0.7667181344876111\n",
      "Train, Accuracy: 0.8119872361081271\n",
      "Train, Optimal threshold: 0.47725934\n",
      "Test, ROC AUC: 0.9102320880263923\n",
      "Test, F1-score: 0.7164990765442233\n",
      "Test, Precision: 0.6176366531045463\n",
      "Test, Recall: 0.8530417786464696\n",
      "Test, PR AUC 0.778696723213511\n",
      "Test, Accuracy: 0.8241079670242225\n",
      "Test, Optimal threshold: 0.53332245\n",
      "\n",
      "Epoch 42\n"
     ]
    },
    {
     "name": "stderr",
     "output_type": "stream",
     "text": [
      "100%|██████████| 1964/1964 [08:28<00:00,  3.86it/s]\n"
     ]
    },
    {
     "name": "stdout",
     "output_type": "stream",
     "text": [
      "Train, ROC AUC: 0.9082590241195397\n",
      "Train, F1-score: 0.7086319647541705\n",
      "Train, Precision: 0.6012225511703692\n",
      "Train, Recall: 0.8627666727795098\n",
      "Train, PR AUC 0.7701401857171722\n",
      "Train, Accuracy: 0.8152816570778327\n",
      "Train, Optimal threshold: 0.4833256\n",
      "Test, ROC AUC: 0.9089873554868042\n",
      "Test, F1-score: 0.7108264958975385\n",
      "Test, Precision: 0.6019318759532283\n",
      "Test, Recall: 0.8678231126313217\n",
      "Test, PR AUC 0.7749914890630868\n",
      "Test, Accuracy: 0.8160231721679345\n",
      "Test, Optimal threshold: 0.42924508\n",
      "\n",
      "Epoch 43\n"
     ]
    },
    {
     "name": "stderr",
     "output_type": "stream",
     "text": [
      "100%|██████████| 1964/1964 [08:28<00:00,  3.86it/s]\n"
     ]
    },
    {
     "name": "stdout",
     "output_type": "stream",
     "text": [
      "Train, ROC AUC: 0.9079843220309688\n",
      "Train, F1-score: 0.7135803107468783\n",
      "Train, Precision: 0.6182689723143088\n",
      "Train, Recall: 0.8436334739287242\n",
      "Train, PR AUC 0.7692393047429611\n",
      "Train, Accuracy: 0.8236768602735802\n",
      "Train, Optimal threshold: 0.51806134\n",
      "Test, ROC AUC: 0.9118463051431852\n",
      "Test, F1-score: 0.7207745390874446\n",
      "Test, Precision: 0.6230413105413105\n",
      "Test, Recall: 0.8548741754214513\n",
      "Test, PR AUC 0.7808824899981627\n",
      "Test, Accuracy: 0.8274182767291594\n",
      "Test, Optimal threshold: 0.4672231\n",
      "\n",
      "Epoch 44\n"
     ]
    },
    {
     "name": "stderr",
     "output_type": "stream",
     "text": [
      "100%|██████████| 1964/1964 [08:27<00:00,  3.87it/s]\n"
     ]
    },
    {
     "name": "stdout",
     "output_type": "stream",
     "text": [
      "Train, ROC AUC: 0.9093934818467926\n",
      "Train, F1-score: 0.7138157473662651\n",
      "Train, Precision: 0.6141003898420809\n",
      "Train, Recall: 0.8521914542453696\n",
      "Train, PR AUC 0.7739243180193986\n",
      "Train, Accuracy: 0.8220933100973207\n",
      "Train, Optimal threshold: 0.5031156\n",
      "Test, ROC AUC: 0.9127197494463949\n",
      "Test, F1-score: 0.7186555310754726\n",
      "Test, Precision: 0.6189215426705498\n",
      "Test, Recall: 0.856706572196433\n",
      "Test, PR AUC 0.7834721776584592\n",
      "Test, Accuracy: 0.8252220135595378\n",
      "Test, Optimal threshold: 0.47201866\n",
      "\n",
      "Epoch 45\n"
     ]
    },
    {
     "name": "stderr",
     "output_type": "stream",
     "text": [
      "100%|██████████| 1964/1964 [08:28<00:00,  3.86it/s]\n"
     ]
    },
    {
     "name": "stdout",
     "output_type": "stream",
     "text": [
      "Train, ROC AUC: 0.9091890341470581\n",
      "Train, F1-score: 0.7101267586014764\n",
      "Train, Precision: 0.6062355408531708\n",
      "Train, Recall: 0.8569900360657742\n",
      "Train, PR AUC 0.7742778492739884\n",
      "Train, Accuracy: 0.8178439844987149\n",
      "Train, Optimal threshold: 0.4907979\n",
      "Test, ROC AUC: 0.9132894770012052\n",
      "Test, F1-score: 0.7205469666819736\n",
      "Test, Precision: 0.6186804521160081\n",
      "Test, Recall: 0.8625702418763743\n",
      "Test, PR AUC 0.784237578638169\n",
      "Test, Accuracy: 0.8256676321736639\n",
      "Test, Optimal threshold: 0.5445845\n",
      "\n",
      "Epoch 46\n"
     ]
    },
    {
     "name": "stderr",
     "output_type": "stream",
     "text": [
      "100%|██████████| 1964/1964 [08:27<00:00,  3.87it/s]\n"
     ]
    },
    {
     "name": "stdout",
     "output_type": "stream",
     "text": [
      "Train, ROC AUC: 0.9107662563730256\n",
      "Train, F1-score: 0.7126956082786472\n",
      "Train, Precision: 0.6069601478870212\n",
      "Train, Recall: 0.8630417507182591\n",
      "Train, PR AUC 0.775161799727649\n",
      "Train, Accuracy: 0.8188386768204858\n",
      "Train, Optimal threshold: 0.48662966\n",
      "Test, ROC AUC: 0.9135130150520986\n",
      "Test, F1-score: 0.7254963756697133\n",
      "Test, Precision: 0.6363803907113896\n",
      "Test, Recall: 0.8436354752015637\n",
      "Test, PR AUC 0.7877352946666955\n",
      "Test, Accuracy: 0.8336569373269249\n",
      "Test, Optimal threshold: 0.6107196\n",
      "\n",
      "Epoch 47\n"
     ]
    },
    {
     "name": "stderr",
     "output_type": "stream",
     "text": [
      "100%|██████████| 1964/1964 [08:27<00:00,  3.87it/s]\n"
     ]
    },
    {
     "name": "stdout",
     "output_type": "stream",
     "text": [
      "Train, ROC AUC: 0.911172072300124\n",
      "Train, F1-score: 0.7149589096775013\n",
      "Train, Precision: 0.6116798156962465\n",
      "Train, Recall: 0.8601992786845162\n",
      "Train, PR AUC 0.7764173790810057\n",
      "Train, Accuracy: 0.8214248768570905\n",
      "Train, Optimal threshold: 0.49317917\n",
      "Test, ROC AUC: 0.914042738708481\n",
      "Test, F1-score: 0.7185396695900469\n",
      "Test, Precision: 0.6166637493436024\n",
      "Test, Recall: 0.8607378451013926\n",
      "Test, PR AUC 0.788529137642129\n",
      "Test, Accuracy: 0.8242989464302766\n",
      "Test, Optimal threshold: 0.4785696\n",
      "\n",
      "Epoch 48\n"
     ]
    },
    {
     "name": "stderr",
     "output_type": "stream",
     "text": [
      "100%|██████████| 1964/1964 [08:28<00:00,  3.87it/s]\n"
     ]
    },
    {
     "name": "stdout",
     "output_type": "stream",
     "text": [
      "Train, ROC AUC: 0.912068302176317\n",
      "Train, F1-score: 0.7140486725663717\n",
      "Train, Precision: 0.6064397659819789\n",
      "Train, Recall: 0.8680848462619964\n",
      "Train, PR AUC 0.7788088417984481\n",
      "Train, Accuracy: 0.8189819125148209\n",
      "Train, Optimal threshold: 0.4791745\n",
      "Test, ROC AUC: 0.9133855888978225\n",
      "Test, F1-score: 0.720127075220332\n",
      "Test, Precision: 0.6202118270079435\n",
      "Test, Recall: 0.8584168091864158\n",
      "Test, PR AUC 0.7877835033035457\n",
      "Test, Accuracy: 0.8261450806887991\n",
      "Test, Optimal threshold: 0.54974264\n",
      "\n",
      "Epoch 49\n"
     ]
    },
    {
     "name": "stderr",
     "output_type": "stream",
     "text": [
      "100%|██████████| 1964/1964 [08:26<00:00,  3.88it/s]\n"
     ]
    },
    {
     "name": "stdout",
     "output_type": "stream",
     "text": [
      "Train, ROC AUC: 0.9122312401339863\n",
      "Train, F1-score: 0.717368701341516\n",
      "Train, Precision: 0.6129843113461039\n",
      "Train, Recall: 0.8646005257045052\n",
      "Train, PR AUC 0.7804811011869539\n",
      "Train, Accuracy: 0.82262646518179\n",
      "Train, Optimal threshold: 0.49112186\n",
      "Test, ROC AUC: 0.9147949276855194\n",
      "Test, F1-score: 0.716962426886091\n",
      "Test, Precision: 0.6032699366032699\n",
      "Test, Recall: 0.8834595651111654\n",
      "Test, PR AUC 0.7874300630783113\n",
      "Test, Accuracy: 0.8182512652385651\n",
      "Test, Optimal threshold: 0.4418454\n",
      "\n",
      "Epoch 50\n"
     ]
    },
    {
     "name": "stderr",
     "output_type": "stream",
     "text": [
      "100%|██████████| 1964/1964 [08:26<00:00,  3.87it/s]\n"
     ]
    },
    {
     "name": "stdout",
     "output_type": "stream",
     "text": [
      "Train, ROC AUC: 0.9131143892401952\n",
      "Train, F1-score: 0.7164141445998965\n",
      "Train, Precision: 0.6099808803626287\n",
      "Train, Recall: 0.8678403325386638\n",
      "Train, PR AUC 0.7808500177442911\n",
      "Train, Accuracy: 0.8211224903912722\n",
      "Train, Optimal threshold: 0.48278508\n",
      "Test, ROC AUC: 0.9131432675508158\n",
      "Test, F1-score: 0.7215590245893276\n",
      "Test, Precision: 0.6194814295725298\n",
      "Test, Recall: 0.8639139995113608\n",
      "Test, PR AUC 0.7844668735607667\n",
      "Test, Accuracy: 0.8262724002928351\n",
      "Test, Optimal threshold: 0.41417122\n",
      "\n",
      "Epoch 51\n"
     ]
    },
    {
     "name": "stderr",
     "output_type": "stream",
     "text": [
      "100%|██████████| 1964/1964 [08:26<00:00,  3.88it/s]\n"
     ]
    },
    {
     "name": "stdout",
     "output_type": "stream",
     "text": [
      "Train, ROC AUC: 0.9135140500040719\n",
      "Train, F1-score: 0.7169706391637912\n",
      "Train, Precision: 0.6112583780521972\n",
      "Train, Recall: 0.8668928418607494\n",
      "Train, PR AUC 0.7801726114362012\n",
      "Train, Accuracy: 0.8218068387086507\n",
      "Train, Optimal threshold: 0.4841469\n",
      "Test, ROC AUC: 0.9145385977436509\n",
      "Test, F1-score: 0.7258550784904875\n",
      "Test, Precision: 0.6317408613825551\n",
      "Test, Recall: 0.8529196188614708\n",
      "Test, PR AUC 0.7862179696827881\n",
      "Test, Accuracy: 0.8321291020784926\n",
      "Test, Optimal threshold: 0.5024908\n",
      "\n",
      "Epoch 52\n"
     ]
    },
    {
     "name": "stderr",
     "output_type": "stream",
     "text": [
      "100%|██████████| 1964/1964 [08:26<00:00,  3.87it/s]\n"
     ]
    },
    {
     "name": "stdout",
     "output_type": "stream",
     "text": [
      "Train, ROC AUC: 0.9144457511929787\n",
      "Train, F1-score: 0.719956456798562\n",
      "Train, Precision: 0.6144455967504969\n",
      "Train, Recall: 0.8692157222324103\n",
      "Train, PR AUC 0.782646327156542\n",
      "Train, Accuracy: 0.8239474165851018\n",
      "Train, Optimal threshold: 0.48723716\n",
      "Test, ROC AUC: 0.9131341283098735\n",
      "Test, F1-score: 0.7183652875882947\n",
      "Test, Precision: 0.6119133574007221\n",
      "Test, Recall: 0.8696555094063034\n",
      "Test, PR AUC 0.7844030701699695\n",
      "Test, Accuracy: 0.8223254925677181\n",
      "Test, Optimal threshold: 0.45949027\n",
      "\n",
      "Epoch 53\n"
     ]
    },
    {
     "name": "stderr",
     "output_type": "stream",
     "text": [
      "100%|██████████| 1964/1964 [08:26<00:00,  3.88it/s]\n"
     ]
    },
    {
     "name": "stdout",
     "output_type": "stream",
     "text": [
      "Train, ROC AUC: 0.9155161407688436\n",
      "Train, F1-score: 0.7192550193952719\n",
      "Train, Precision: 0.6130748519116855\n",
      "Train, Recall: 0.8699186991869918\n",
      "Train, PR AUC 0.7862588996642632\n",
      "Train, Accuracy: 0.8231914504205559\n",
      "Train, Optimal threshold: 0.482617\n",
      "Test, ROC AUC: 0.9149432010899192\n",
      "Test, F1-score: 0.7242531749704355\n",
      "Test, Precision: 0.6253218503063127\n",
      "Test, Recall: 0.8603713657463963\n",
      "Test, PR AUC 0.7898641542306923\n",
      "Test, Accuracy: 0.8292962408886908\n",
      "Test, Optimal threshold: 0.4400997\n",
      "\n",
      "Epoch 54\n"
     ]
    },
    {
     "name": "stderr",
     "output_type": "stream",
     "text": [
      "100%|██████████| 1964/1964 [08:26<00:00,  3.88it/s]\n"
     ]
    },
    {
     "name": "stdout",
     "output_type": "stream",
     "text": [
      "Train, ROC AUC: 0.9143519533911371\n",
      "Train, F1-score: 0.7161760258090533\n",
      "Train, Precision: 0.6093193807093537\n",
      "Train, Recall: 0.8684821810624122\n",
      "Train, PR AUC 0.7834543154554267\n",
      "Train, Accuracy: 0.820780316232583\n",
      "Train, Optimal threshold: 0.4815767\n",
      "Test, ROC AUC: 0.9157811874520052\n",
      "Test, F1-score: 0.723515774619494\n",
      "Test, Precision: 0.6158201784488675\n",
      "Test, Recall: 0.8768629367212314\n",
      "Test, PR AUC 0.7895801738212052\n",
      "Test, Accuracy: 0.8253811630645829\n",
      "Test, Optimal threshold: 0.46532544\n",
      "\n",
      "Epoch 55\n"
     ]
    },
    {
     "name": "stderr",
     "output_type": "stream",
     "text": [
      "100%|██████████| 1964/1964 [08:25<00:00,  3.88it/s]\n"
     ]
    },
    {
     "name": "stdout",
     "output_type": "stream",
     "text": [
      "Train, ROC AUC: 0.9158301506041002\n",
      "Train, F1-score: 0.7219820715861418\n",
      "Train, Precision: 0.6194070670604966\n",
      "Train, Recall: 0.8652729384436701\n",
      "Train, PR AUC 0.7859439354539479\n",
      "Train, Accuracy: 0.8265017864674099\n",
      "Train, Optimal threshold: 0.4924751\n",
      "Test, ROC AUC: 0.9150024326261522\n",
      "Test, F1-score: 0.7265233722871453\n",
      "Test, Precision: 0.6340375159351667\n",
      "Test, Recall: 0.850598582946494\n",
      "Test, PR AUC 0.7861010462291534\n",
      "Test, Accuracy: 0.8331476589107808\n",
      "Test, Optimal threshold: 0.4589598\n",
      "\n",
      "Epoch 56\n"
     ]
    },
    {
     "name": "stderr",
     "output_type": "stream",
     "text": [
      "100%|██████████| 1964/1964 [08:26<00:00,  3.88it/s]\n"
     ]
    },
    {
     "name": "stdout",
     "output_type": "stream",
     "text": [
      "Train, ROC AUC: 0.9158037508283887\n",
      "Train, F1-score: 0.718585231716239\n",
      "Train, Precision: 0.6117697594501719\n",
      "Train, Recall: 0.8705911119261569\n",
      "Train, PR AUC 0.7876172539445777\n",
      "Train, Accuracy: 0.8224673144103066\n",
      "Train, Optimal threshold: 0.48133925\n",
      "Test, ROC AUC: 0.9151870999813925\n",
      "Test, F1-score: 0.7263464337700145\n",
      "Test, Precision: 0.6322171945701357\n",
      "Test, Recall: 0.8534082580014659\n",
      "Test, PR AUC 0.7890112591177314\n",
      "Test, Accuracy: 0.8324474010885826\n",
      "Test, Optimal threshold: 0.56975186\n",
      "\n",
      "Epoch 57\n"
     ]
    },
    {
     "name": "stderr",
     "output_type": "stream",
     "text": [
      "100%|██████████| 1964/1964 [08:26<00:00,  3.88it/s]\n"
     ]
    },
    {
     "name": "stdout",
     "output_type": "stream",
     "text": [
      "Train, ROC AUC: 0.9174962281856236\n",
      "Train, F1-score: 0.7207301956954514\n",
      "Train, Precision: 0.6104218362282878\n",
      "Train, Recall: 0.8796992481203008\n",
      "Train, PR AUC 0.7895044220718034\n",
      "Train, Accuracy: 0.8225071021031775\n",
      "Train, Optimal threshold: 0.4680449\n",
      "Test, ROC AUC: 0.915516680571319\n",
      "Test, F1-score: 0.7271031910484874\n",
      "Test, Precision: 0.6312286382442885\n",
      "Test, Recall: 0.8573173711214268\n",
      "Test, PR AUC 0.790397135692799\n",
      "Test, Accuracy: 0.8323200814845466\n",
      "Test, Optimal threshold: 0.4872884\n",
      "\n",
      "Epoch 58\n"
     ]
    },
    {
     "name": "stderr",
     "output_type": "stream",
     "text": [
      "100%|██████████| 1964/1964 [08:27<00:00,  3.87it/s]\n"
     ]
    },
    {
     "name": "stdout",
     "output_type": "stream",
     "text": [
      "Train, ROC AUC: 0.9180812001864394\n",
      "Train, F1-score: 0.725504516625024\n",
      "Train, Precision: 0.6245946124826263\n",
      "Train, Recall: 0.8653035026590867\n",
      "Train, PR AUC 0.7929739964433149\n",
      "Train, Accuracy: 0.8295256511255938\n",
      "Train, Optimal threshold: 0.49999106\n",
      "Test, ROC AUC: 0.9169300552436089\n",
      "Test, F1-score: 0.7282082947411753\n",
      "Test, Precision: 0.6290896159317212\n",
      "Test, Recall: 0.864402638651356\n",
      "Test, PR AUC 0.7928497530265335\n",
      "Test, Accuracy: 0.8318744628704204\n",
      "Test, Optimal threshold: 0.52113926\n",
      "\n",
      "Epoch 59\n"
     ]
    },
    {
     "name": "stderr",
     "output_type": "stream",
     "text": [
      "100%|██████████| 1964/1964 [08:27<00:00,  3.87it/s]\n"
     ]
    },
    {
     "name": "stdout",
     "output_type": "stream",
     "text": [
      "Train, ROC AUC: 0.9177175094026387\n",
      "Train, F1-score: 0.7244322880223903\n",
      "Train, Precision: 0.6204807461808355\n",
      "Train, Recall: 0.8702243413411578\n",
      "Train, PR AUC 0.7907924644928759\n",
      "Train, Accuracy: 0.8276317569449418\n",
      "Train, Optimal threshold: 0.49065718\n",
      "Test, ROC AUC: 0.9176724687034372\n",
      "Test, F1-score: 0.7291473347767811\n",
      "Test, Precision: 0.6307527648947556\n",
      "Test, Recall: 0.8639139995113608\n",
      "Test, PR AUC 0.7939445374616921\n",
      "Test, Accuracy: 0.8327657000986727\n",
      "Test, Optimal threshold: 0.51814926\n",
      "\n",
      "Epoch 60\n"
     ]
    },
    {
     "name": "stderr",
     "output_type": "stream",
     "text": [
      "100%|██████████| 1964/1964 [08:28<00:00,  3.86it/s]\n"
     ]
    },
    {
     "name": "stdout",
     "output_type": "stream",
     "text": [
      "Train, ROC AUC: 0.9177062503386804\n",
      "Train, F1-score: 0.7270388805288678\n",
      "Train, Precision: 0.6276286278950991\n",
      "Train, Recall: 0.863866984534507\n",
      "Train, PR AUC 0.791446296102811\n",
      "Train, Accuracy: 0.8311171588404275\n",
      "Train, Optimal threshold: 0.5022336\n",
      "Test, ROC AUC: 0.9171336531324464\n",
      "Test, F1-score: 0.7308413161182841\n",
      "Test, Precision: 0.6368172745418255\n",
      "Test, Recall: 0.8574395309064256\n",
      "Test, PR AUC 0.7919570800589428\n",
      "Test, Accuracy: 0.8354394117834294\n",
      "Test, Optimal threshold: 0.51379985\n",
      "\n",
      "Epoch 61\n"
     ]
    },
    {
     "name": "stderr",
     "output_type": "stream",
     "text": [
      "100%|██████████| 1964/1964 [08:28<00:00,  3.86it/s]\n"
     ]
    },
    {
     "name": "stdout",
     "output_type": "stream",
     "text": [
      "Train, ROC AUC: 0.9187788823557447\n",
      "Train, F1-score: 0.7294313036031712\n",
      "Train, Precision: 0.6337564539039073\n",
      "Train, Recall: 0.8591295311449355\n",
      "Train, PR AUC 0.7931379051832383\n",
      "Train, Accuracy: 0.8340614481128698\n",
      "Train, Optimal threshold: 0.5144271\n",
      "Test, ROC AUC: 0.9173732716199341\n",
      "Test, F1-score: 0.7282834580216125\n",
      "Test, Precision: 0.6336105586693184\n",
      "Test, Recall: 0.8562179330564378\n",
      "Test, PR AUC 0.7949275137639324\n",
      "Test, Accuracy: 0.8335296177228889\n",
      "Test, Optimal threshold: 0.47340244\n",
      "\n",
      "Epoch 62\n"
     ]
    },
    {
     "name": "stderr",
     "output_type": "stream",
     "text": [
      "100%|██████████| 1964/1964 [08:27<00:00,  3.87it/s]\n"
     ]
    },
    {
     "name": "stdout",
     "output_type": "stream",
     "text": [
      "Train, ROC AUC: 0.9185067133921504\n",
      "Train, F1-score: 0.7289032675509544\n",
      "Train, Precision: 0.6320667908521669\n",
      "Train, Recall: 0.8607799987774314\n",
      "Train, PR AUC 0.7931696718119514\n",
      "Train, Accuracy: 0.8332975244097496\n",
      "Train, Optimal threshold: 0.50871336\n",
      "Test, ROC AUC: 0.9169721152083248\n",
      "Test, F1-score: 0.721789394320181\n",
      "Test, Precision: 0.6132035186608592\n",
      "Test, Recall: 0.8771072562912289\n",
      "Test, PR AUC 0.7916879893162168\n",
      "Test, Accuracy: 0.8238214979151415\n",
      "Test, Optimal threshold: 0.4703572\n",
      "\n",
      "Epoch 63\n"
     ]
    },
    {
     "name": "stderr",
     "output_type": "stream",
     "text": [
      "100%|██████████| 1964/1964 [08:27<00:00,  3.87it/s]\n"
     ]
    },
    {
     "name": "stdout",
     "output_type": "stream",
     "text": [
      "Train, ROC AUC: 0.9195914536709732\n",
      "Train, F1-score: 0.7246133617181141\n",
      "Train, Precision: 0.6137853490888262\n",
      "Train, Recall: 0.8842838804327893\n",
      "Train, PR AUC 0.7933576011215313\n",
      "Train, Accuracy: 0.8250057692154663\n",
      "Train, Optimal threshold: 0.46393073\n",
      "Test, ROC AUC: 0.917851104580334\n",
      "Test, F1-score: 0.7237882782397079\n",
      "Test, Precision: 0.6186514127231756\n",
      "Test, Recall: 0.8719765453212802\n",
      "Test, PR AUC 0.7938179757734349\n",
      "Test, Accuracy: 0.8265906993029252\n",
      "Test, Optimal threshold: 0.48529425\n",
      "\n",
      "Epoch 64\n"
     ]
    },
    {
     "name": "stderr",
     "output_type": "stream",
     "text": [
      "100%|██████████| 1964/1964 [08:28<00:00,  3.87it/s]\n"
     ]
    },
    {
     "name": "stdout",
     "output_type": "stream",
     "text": [
      "Train, ROC AUC: 0.9190963471847224\n",
      "Train, F1-score: 0.7248396848083174\n",
      "Train, Precision: 0.6182759736756932\n",
      "Train, Recall: 0.8757870285469772\n",
      "Train, PR AUC 0.794958960024917\n",
      "Train, Accuracy: 0.8268837483189699\n",
      "Train, Optimal threshold: 0.4783479\n",
      "Test, ROC AUC: 0.9186340977423203\n",
      "Test, F1-score: 0.727951708614692\n",
      "Test, Precision: 0.6262101742650942\n",
      "Test, Recall: 0.8691668702663083\n",
      "Test, PR AUC 0.7958492141635787\n",
      "Test, Accuracy: 0.8307285864340962\n",
      "Test, Optimal threshold: 0.57125753\n",
      "\n",
      "Epoch 65\n"
     ]
    },
    {
     "name": "stderr",
     "output_type": "stream",
     "text": [
      "100%|██████████| 1964/1964 [08:28<00:00,  3.86it/s]\n"
     ]
    },
    {
     "name": "stdout",
     "output_type": "stream",
     "text": [
      "Train, ROC AUC: 0.9197243553462627\n",
      "Train, F1-score: 0.7322485399513534\n",
      "Train, Precision: 0.6373661209609854\n",
      "Train, Recall: 0.8603215355461825\n",
      "Train, PR AUC 0.7934700311418406\n",
      "Train, Accuracy: 0.8361940684507468\n",
      "Train, Optimal threshold: 0.51469177\n",
      "Test, ROC AUC: 0.9169079906550053\n",
      "Test, F1-score: 0.7305094507565841\n",
      "Test, Precision: 0.6392376065243288\n",
      "Test, Recall: 0.8521866601514781\n",
      "Test, PR AUC 0.7956877752254534\n",
      "Test, Accuracy: 0.8361714995066365\n",
      "Test, Optimal threshold: 0.46988723\n",
      "\n",
      "Epoch 66\n"
     ]
    },
    {
     "name": "stderr",
     "output_type": "stream",
     "text": [
      "100%|██████████| 1964/1964 [08:28<00:00,  3.87it/s]\n"
     ]
    },
    {
     "name": "stdout",
     "output_type": "stream",
     "text": [
      "Train, ROC AUC: 0.919825173621688\n",
      "Train, F1-score: 0.7254316992389956\n",
      "Train, Precision: 0.6185435888591877\n",
      "Train, Recall: 0.8769790329482242\n",
      "Train, PR AUC 0.7946385476815183\n",
      "Train, Accuracy: 0.8271622621690659\n",
      "Train, Optimal threshold: 0.47659913\n",
      "Test, ROC AUC: 0.9183088291072687\n",
      "Test, F1-score: 0.7293995859213251\n",
      "Test, Precision: 0.632836357104365\n",
      "Test, Recall: 0.8607378451013926\n",
      "Test, PR AUC 0.7966817631505484\n",
      "Test, Accuracy: 0.8335932775249069\n",
      "Test, Optimal threshold: 0.51260614\n",
      "\n",
      "Epoch 67\n"
     ]
    },
    {
     "name": "stderr",
     "output_type": "stream",
     "text": [
      "100%|██████████| 1964/1964 [08:28<00:00,  3.87it/s]\n"
     ]
    },
    {
     "name": "stdout",
     "output_type": "stream",
     "text": [
      "Train, ROC AUC: 0.9205127170433582\n",
      "Train, F1-score: 0.7309154158345681\n",
      "Train, Precision: 0.6317794061964052\n",
      "Train, Recall: 0.8669539702915826\n",
      "Train, PR AUC 0.7955438970861805\n",
      "Train, Accuracy: 0.8338068068784964\n",
      "Train, Optimal threshold: 0.50265455\n",
      "Test, ROC AUC: 0.9183811095654799\n",
      "Test, F1-score: 0.7338970664996346\n",
      "Test, Precision: 0.6407218374043019\n",
      "Test, Recall: 0.8587832885414122\n",
      "Test, PR AUC 0.7972101571237311\n",
      "Test, Accuracy: 0.8377311646560779\n",
      "Test, Optimal threshold: 0.52084213\n",
      "\n",
      "Epoch 68\n"
     ]
    },
    {
     "name": "stderr",
     "output_type": "stream",
     "text": [
      "100%|██████████| 1964/1964 [08:28<00:00,  3.86it/s]\n"
     ]
    },
    {
     "name": "stdout",
     "output_type": "stream",
     "text": [
      "Train, ROC AUC: 0.9208080668873053\n",
      "Train, F1-score: 0.7296140628792622\n",
      "Train, Precision: 0.6267916328277618\n",
      "Train, Recall: 0.8727917354361514\n",
      "Train, PR AUC 0.7969273640948976\n",
      "Train, Accuracy: 0.8315786960777293\n",
      "Train, Optimal threshold: 0.4884183\n",
      "Test, ROC AUC: 0.9197562235259773\n",
      "Test, F1-score: 0.7318683586093057\n",
      "Test, Precision: 0.6333928571428571\n",
      "Test, Recall: 0.866601514781334\n",
      "Test, PR AUC 0.8013097436201777\n",
      "Test, Accuracy: 0.8345481745551772\n",
      "Test, Optimal threshold: 0.45151833\n",
      "\n",
      "Epoch 69\n"
     ]
    },
    {
     "name": "stderr",
     "output_type": "stream",
     "text": [
      "100%|██████████| 1964/1964 [08:27<00:00,  3.87it/s]\n"
     ]
    },
    {
     "name": "stdout",
     "output_type": "stream",
     "text": [
      "Train, ROC AUC: 0.9213261091127818\n",
      "Train, F1-score: 0.7304712841060864\n",
      "Train, Precision: 0.62559644421204\n",
      "Train, Recall: 0.877590317256556\n",
      "Train, PR AUC 0.7982650157304174\n",
      "Train, Accuracy: 0.8313877151519492\n",
      "Train, Optimal threshold: 0.48220402\n",
      "Test, ROC AUC: 0.919081452543629\n",
      "Test, F1-score: 0.7332531506562777\n",
      "Test, Precision: 0.641035018743714\n",
      "Test, Recall: 0.8564622526264354\n",
      "Test, PR AUC 0.7994525164680383\n",
      "Test, Accuracy: 0.8376356749530509\n",
      "Test, Optimal threshold: 0.49906656\n",
      "\n",
      "Epoch 70\n"
     ]
    },
    {
     "name": "stderr",
     "output_type": "stream",
     "text": [
      "100%|██████████| 1964/1964 [08:28<00:00,  3.86it/s]\n"
     ]
    },
    {
     "name": "stdout",
     "output_type": "stream",
     "text": [
      "Train, ROC AUC: 0.9216456545996801\n",
      "Train, F1-score: 0.7319997945768283\n",
      "Train, Precision: 0.6311047155191499\n",
      "Train, Recall: 0.8712940888807384\n",
      "Train, PR AUC 0.7988293629783509\n",
      "Train, Accuracy: 0.8338943398028122\n",
      "Train, Optimal threshold: 0.49649608\n",
      "Test, ROC AUC: 0.9179476634478835\n",
      "Test, F1-score: 0.7283798997032033\n",
      "Test, Precision: 0.6267171539274392\n",
      "Test, Recall: 0.8694111898363059\n",
      "Test, PR AUC 0.7965882609681326\n",
      "Test, Accuracy: 0.8310468854441863\n",
      "Test, Optimal threshold: 0.46193528\n",
      "\n",
      "Epoch 71\n"
     ]
    },
    {
     "name": "stderr",
     "output_type": "stream",
     "text": [
      "100%|██████████| 1964/1964 [08:27<00:00,  3.87it/s]\n"
     ]
    },
    {
     "name": "stdout",
     "output_type": "stream",
     "text": [
      "Train, ROC AUC: 0.9218270549231495\n",
      "Train, F1-score: 0.7320097976021659\n",
      "Train, Precision: 0.6329929546062606\n",
      "Train, Recall: 0.8677486398924139\n",
      "Train, PR AUC 0.8000777460923146\n",
      "Train, Accuracy: 0.8345786881201906\n",
      "Train, Optimal threshold: 0.50008166\n",
      "Test, ROC AUC: 0.9189274920914278\n",
      "Test, F1-score: 0.7294503019756372\n",
      "Test, Precision: 0.6277307963354475\n",
      "Test, Recall: 0.8705106279012949\n",
      "Test, PR AUC 0.7988488454612457\n",
      "Test, Accuracy: 0.8317471432663844\n",
      "Test, Optimal threshold: 0.46187922\n",
      "\n",
      "Epoch 72\n"
     ]
    },
    {
     "name": "stderr",
     "output_type": "stream",
     "text": [
      "100%|██████████| 1964/1964 [08:28<00:00,  3.87it/s]\n"
     ]
    },
    {
     "name": "stdout",
     "output_type": "stream",
     "text": [
      "Train, ROC AUC: 0.9218710815132154\n",
      "Train, F1-score: 0.7288595024573137\n",
      "Train, Precision: 0.6223447977503785\n",
      "Train, Recall: 0.8793630417507182\n",
      "Train, PR AUC 0.799591046873583\n",
      "Train, Accuracy: 0.8296609292813547\n",
      "Train, Optimal threshold: 0.47698525\n",
      "Test, ROC AUC: 0.9204807292268709\n",
      "Test, F1-score: 0.7326978864484045\n",
      "Test, Precision: 0.636085626911315\n",
      "Test, Recall: 0.8639139995113608\n",
      "Test, PR AUC 0.8008416318609377\n",
      "Test, Accuracy: 0.8357577107935195\n",
      "Test, Optimal threshold: 0.41689023\n",
      "\n",
      "Epoch 73\n"
     ]
    },
    {
     "name": "stderr",
     "output_type": "stream",
     "text": [
      "100%|██████████| 1964/1964 [08:26<00:00,  3.88it/s]\n"
     ]
    },
    {
     "name": "stdout",
     "output_type": "stream",
     "text": [
      "Train, ROC AUC: 0.9213134030420785\n",
      "Train, F1-score: 0.7278112475107761\n",
      "Train, Precision: 0.6192733356211393\n",
      "Train, Recall: 0.8824805917232105\n",
      "Train, PR AUC 0.7971117210853293\n",
      "Train, Accuracy: 0.8281489969522627\n",
      "Train, Optimal threshold: 0.47106057\n",
      "Test, ROC AUC: 0.9191661403890685\n",
      "Test, F1-score: 0.7300654605432709\n",
      "Test, Precision: 0.6314757021845743\n",
      "Test, Recall: 0.8651355973613486\n",
      "Test, PR AUC 0.7967370703698429\n",
      "Test, Accuracy: 0.8333068084158258\n",
      "Test, Optimal threshold: 0.55984265\n",
      "\n",
      "Epoch 74\n"
     ]
    },
    {
     "name": "stderr",
     "output_type": "stream",
     "text": [
      "100%|██████████| 1964/1964 [08:27<00:00,  3.87it/s]\n"
     ]
    },
    {
     "name": "stdout",
     "output_type": "stream",
     "text": [
      "Train, ROC AUC: 0.9221258495671558\n",
      "Train, F1-score: 0.7336981010621179\n",
      "Train, Precision: 0.6338278799741975\n",
      "Train, Recall: 0.8709273182957393\n",
      "Train, PR AUC 0.7995669548985461\n",
      "Train, Accuracy: 0.83539831459333\n",
      "Train, Optimal threshold: 0.49974924\n",
      "Test, ROC AUC: 0.9198908248783348\n",
      "Test, F1-score: 0.7318298308559713\n",
      "Test, Precision: 0.6304309431296362\n",
      "Test, Recall: 0.872098705106279\n",
      "Test, PR AUC 0.7999895208324561\n",
      "Test, Accuracy: 0.8334659579208709\n",
      "Test, Optimal threshold: 0.5226714\n",
      "\n",
      "Epoch 75\n"
     ]
    },
    {
     "name": "stderr",
     "output_type": "stream",
     "text": [
      "100%|██████████| 1964/1964 [08:27<00:00,  3.87it/s]\n"
     ]
    },
    {
     "name": "stdout",
     "output_type": "stream",
     "text": [
      "Train, ROC AUC: 0.9226291307125772\n",
      "Train, F1-score: 0.7322267938804887\n",
      "Train, Precision: 0.6277383422518292\n",
      "Train, Recall: 0.8784461152882206\n",
      "Train, PR AUC 0.8002299832294326\n",
      "Train, Accuracy: 0.8327245816324095\n",
      "Train, Optimal threshold: 0.48632684\n",
      "Test, ROC AUC: 0.9204786915652683\n",
      "Test, F1-score: 0.732653800382884\n",
      "Test, Precision: 0.6354905304730275\n",
      "Test, Recall: 0.8648912777913511\n",
      "Test, PR AUC 0.8022501705019847\n",
      "Test, Accuracy: 0.8355349014864564\n",
      "Test, Optimal threshold: 0.56423235\n",
      "\n",
      "Epoch 76\n"
     ]
    },
    {
     "name": "stderr",
     "output_type": "stream",
     "text": [
      "100%|██████████| 1964/1964 [08:27<00:00,  3.87it/s]\n"
     ]
    },
    {
     "name": "stdout",
     "output_type": "stream",
     "text": [
      "Train, ROC AUC: 0.9226952592989756\n",
      "Train, F1-score: 0.7300247637337645\n",
      "Train, Precision: 0.6222270083997415\n",
      "Train, Recall: 0.8830001833852925\n",
      "Train, PR AUC 0.7997574172887443\n",
      "Train, Accuracy: 0.8299633157471731\n",
      "Train, Optimal threshold: 0.47211248\n",
      "Test, ROC AUC: 0.9197838752512331\n",
      "Test, F1-score: 0.7335883386746614\n",
      "Test, Precision: 0.63584229390681\n",
      "Test, Recall: 0.8668458343513316\n",
      "Test, PR AUC 0.798348480933444\n",
      "Test, Accuracy: 0.8359486901995735\n",
      "Test, Optimal threshold: 0.56112856\n",
      "\n",
      "Epoch 77\n"
     ]
    },
    {
     "name": "stderr",
     "output_type": "stream",
     "text": [
      "100%|██████████| 1964/1964 [08:27<00:00,  3.87it/s]\n"
     ]
    },
    {
     "name": "stdout",
     "output_type": "stream",
     "text": [
      "Train, ROC AUC: 0.9231030654563486\n",
      "Train, F1-score: 0.7322027865351368\n",
      "Train, Precision: 0.6268010272929091\n",
      "Train, Recall: 0.8802188397823828\n",
      "Train, PR AUC 0.8019340869994946\n",
      "Train, Accuracy: 0.8323664923965719\n",
      "Train, Optimal threshold: 0.48043194\n",
      "Test, ROC AUC: 0.9198468534555737\n",
      "Test, F1-score: 0.7379032258064516\n",
      "Test, Precision: 0.6522228474957794\n",
      "Test, Recall: 0.849499144881505\n",
      "Test, PR AUC 0.8000733560832876\n",
      "Test, Accuracy: 0.8427602890155012\n",
      "Test, Optimal threshold: 0.51353914\n",
      "\n",
      "Epoch 78\n"
     ]
    },
    {
     "name": "stderr",
     "output_type": "stream",
     "text": [
      "100%|██████████| 1964/1964 [08:28<00:00,  3.87it/s]\n"
     ]
    },
    {
     "name": "stdout",
     "output_type": "stream",
     "text": [
      "Train, ROC AUC: 0.9226008868705491\n",
      "Train, F1-score: 0.731594350426263\n",
      "Train, Precision: 0.6267003836763168\n",
      "Train, Recall: 0.8786600647961367\n",
      "Train, PR AUC 0.8007120419767259\n",
      "Train, Accuracy: 0.8321436813164952\n",
      "Train, Optimal threshold: 0.48175067\n",
      "Test, ROC AUC: 0.9188467691410805\n",
      "Test, F1-score: 0.7243101447813146\n",
      "Test, Precision: 0.616911575148234\n",
      "Test, Recall: 0.8769850965062301\n",
      "Test, PR AUC 0.7957748066014141\n",
      "Test, Accuracy: 0.826049590985772\n",
      "Test, Optimal threshold: 0.4470582\n",
      "\n",
      "Epoch 79\n"
     ]
    },
    {
     "name": "stderr",
     "output_type": "stream",
     "text": [
      "100%|██████████| 1964/1964 [08:28<00:00,  3.87it/s]\n"
     ]
    },
    {
     "name": "stdout",
     "output_type": "stream",
     "text": [
      "Train, ROC AUC: 0.922355551242124\n",
      "Train, F1-score: 0.7329323462882994\n",
      "Train, Precision: 0.6323796850742959\n",
      "Train, Recall: 0.8715080383886545\n",
      "Train, PR AUC 0.8000193933655633\n",
      "Train, Accuracy: 0.834642348428784\n",
      "Train, Optimal threshold: 0.49697122\n",
      "Test, ROC AUC: 0.9194037501366022\n",
      "Test, F1-score: 0.7282265457879189\n",
      "Test, Precision: 0.624475890985325\n",
      "Test, Recall: 0.8733203029562668\n",
      "Test, PR AUC 0.7996492390156424\n",
      "Test, Accuracy: 0.830155648215934\n",
      "Test, Optimal threshold: 0.43315113\n",
      "\n",
      "Epoch 80\n"
     ]
    },
    {
     "name": "stderr",
     "output_type": "stream",
     "text": [
      "100%|██████████| 1964/1964 [08:28<00:00,  3.87it/s]\n"
     ]
    },
    {
     "name": "stdout",
     "output_type": "stream",
     "text": [
      "Train, ROC AUC: 0.9238939122695617\n",
      "Train, F1-score: 0.7363868077546921\n",
      "Train, Precision: 0.6361088871096877\n",
      "Train, Recall: 0.8741976893453145\n",
      "Train, PR AUC 0.8038747563272519\n",
      "Train, Accuracy: 0.8370455250781829\n",
      "Train, Optimal threshold: 0.49378052\n",
      "Test, ROC AUC: 0.9209878466710494\n",
      "Test, F1-score: 0.7278154406556713\n",
      "Test, Precision: 0.6211571675302245\n",
      "Test, Recall: 0.8786953334962131\n",
      "Test, PR AUC 0.8035049493209804\n",
      "Test, Accuracy: 0.8287551325715377\n",
      "Test, Optimal threshold: 0.5162732\n",
      "\n",
      "Epoch 81\n"
     ]
    },
    {
     "name": "stderr",
     "output_type": "stream",
     "text": [
      "100%|██████████| 1964/1964 [08:27<00:00,  3.87it/s]\n"
     ]
    },
    {
     "name": "stdout",
     "output_type": "stream",
     "text": [
      "Train, ROC AUC: 0.9242730334624096\n",
      "Train, F1-score: 0.734461114513166\n",
      "Train, Precision: 0.6303376691630534\n",
      "Train, Recall: 0.8797909407665505\n",
      "Train, PR AUC 0.8041575892089102\n",
      "Train, Accuracy: 0.8343717921172623\n",
      "Train, Optimal threshold: 0.48321217\n",
      "Test, ROC AUC: 0.9197271073136086\n",
      "Test, F1-score: 0.7349663582842724\n",
      "Test, Precision: 0.6450452112935966\n",
      "Test, Recall: 0.8540190569264599\n",
      "Test, PR AUC 0.800898906061527\n",
      "Test, Accuracy: 0.8395136391125824\n",
      "Test, Optimal threshold: 0.44122294\n",
      "\n",
      "Epoch 82\n"
     ]
    },
    {
     "name": "stderr",
     "output_type": "stream",
     "text": [
      "100%|██████████| 1964/1964 [08:26<00:00,  3.87it/s]\n"
     ]
    },
    {
     "name": "stdout",
     "output_type": "stream",
     "text": [
      "Train, ROC AUC: 0.9249535897865179\n",
      "Train, F1-score: 0.7367188906897172\n",
      "Train, Precision: 0.6360385572139303\n",
      "Train, Recall: 0.8752674368848952\n",
      "Train, PR AUC 0.8062603896859926\n",
      "Train, Accuracy: 0.8371251004639245\n",
      "Train, Optimal threshold: 0.4923597\n",
      "Test, ROC AUC: 0.9197603645802017\n",
      "Test, F1-score: 0.7365415124272872\n",
      "Test, Precision: 0.649384558000746\n",
      "Test, Recall: 0.8507207427314928\n",
      "Test, PR AUC 0.8000549750420685\n",
      "Test, Accuracy: 0.8414234331731228\n",
      "Test, Optimal threshold: 0.58427477\n",
      "\n",
      "Epoch 83\n"
     ]
    },
    {
     "name": "stderr",
     "output_type": "stream",
     "text": [
      "100%|██████████| 1964/1964 [08:27<00:00,  3.87it/s]\n"
     ]
    },
    {
     "name": "stdout",
     "output_type": "stream",
     "text": [
      "Train, ROC AUC: 0.9250014168039115\n",
      "Train, F1-score: 0.73466581795035\n",
      "Train, Precision: 0.6295601326584046\n",
      "Train, Recall: 0.8818998716302953\n",
      "Train, PR AUC 0.8063713002537334\n",
      "Train, Accuracy: 0.8341489810371856\n",
      "Train, Optimal threshold: 0.47777885\n",
      "Test, ROC AUC: 0.9198804551527087\n",
      "Test, F1-score: 0.7273558082859465\n",
      "Test, Precision: 0.6223284100781928\n",
      "Test, Recall: 0.8750305399462497\n",
      "Test, PR AUC 0.7998908653442924\n",
      "Test, Accuracy: 0.8290734315816278\n",
      "Test, Optimal threshold: 0.44661677\n",
      "\n",
      "Epoch 84\n"
     ]
    },
    {
     "name": "stderr",
     "output_type": "stream",
     "text": [
      "100%|██████████| 1964/1964 [08:26<00:00,  3.88it/s]\n"
     ]
    },
    {
     "name": "stdout",
     "output_type": "stream",
     "text": [
      "Train, ROC AUC: 0.9244308377604259\n",
      "Train, F1-score: 0.735688591983556\n",
      "Train, Precision: 0.6345685031691858\n",
      "Train, Recall: 0.8751451800232288\n",
      "Train, PR AUC 0.8061320246148977\n",
      "Train, Accuracy: 0.8362816013750627\n",
      "Train, Optimal threshold: 0.4928963\n",
      "Test, ROC AUC: 0.9202481124075733\n",
      "Test, F1-score: 0.737470293108001\n",
      "Test, Precision: 0.6495487952367662\n",
      "Test, Recall: 0.8529196188614708\n",
      "Test, PR AUC 0.8018019910827971\n",
      "Test, Accuracy: 0.8417735620842219\n",
      "Test, Optimal threshold: 0.48388812\n",
      "\n",
      "Epoch 85\n"
     ]
    },
    {
     "name": "stderr",
     "output_type": "stream",
     "text": [
      "100%|██████████| 1964/1964 [08:26<00:00,  3.88it/s]\n"
     ]
    },
    {
     "name": "stdout",
     "output_type": "stream",
     "text": [
      "Train, ROC AUC: 0.9258958567059614\n",
      "Train, F1-score: 0.7386360726266997\n",
      "Train, Precision: 0.6355883649184663\n",
      "Train, Recall: 0.8815636652607127\n",
      "Train, PR AUC 0.8070433455102605\n",
      "Train, Accuracy: 0.837570722624078\n",
      "Train, Optimal threshold: 0.48698902\n",
      "Test, ROC AUC: 0.9211854235985065\n",
      "Test, F1-score: 0.7365670081538783\n",
      "Test, Precision: 0.6437054631828979\n",
      "Test, Recall: 0.8607378451013926\n",
      "Test, PR AUC 0.8039643888585581\n",
      "Test, Accuracy: 0.8395772989146004\n",
      "Test, Optimal threshold: 0.54512644\n",
      "\n",
      "Epoch 86\n"
     ]
    },
    {
     "name": "stderr",
     "output_type": "stream",
     "text": [
      "100%|██████████| 1964/1964 [08:26<00:00,  3.88it/s]\n"
     ]
    },
    {
     "name": "stdout",
     "output_type": "stream",
     "text": [
      "Train, ROC AUC: 0.9256228235829023\n",
      "Train, F1-score: 0.7359514930106299\n",
      "Train, Precision: 0.6290441495359528\n",
      "Train, Recall: 0.8866373250198667\n",
      "Train, PR AUC 0.8066892181240795\n",
      "Train, Accuracy: 0.8343558770401139\n",
      "Train, Optimal threshold: 0.4740475\n",
      "Test, ROC AUC: 0.9200813422943047\n",
      "Test, F1-score: 0.7287511506597116\n",
      "Test, Precision: 0.626759324419423\n",
      "Test, Recall: 0.8703884681162961\n",
      "Test, PR AUC 0.8018388326344242\n",
      "Test, Accuracy: 0.8311742050482223\n",
      "Test, Optimal threshold: 0.4879509\n",
      "\n",
      "Epoch 87\n"
     ]
    },
    {
     "name": "stderr",
     "output_type": "stream",
     "text": [
      "100%|██████████| 1964/1964 [08:26<00:00,  3.88it/s]\n"
     ]
    },
    {
     "name": "stdout",
     "output_type": "stream",
     "text": [
      "Train, ROC AUC: 0.9262934719964926\n",
      "Train, F1-score: 0.7398604812497591\n",
      "Train, Precision: 0.6381729128343787\n",
      "Train, Recall: 0.8800965829207165\n",
      "Train, PR AUC 0.8087499821650872\n",
      "Train, Accuracy: 0.8388678014116674\n",
      "Train, Optimal threshold: 0.4886576\n",
      "Test, ROC AUC: 0.9202627651664256\n",
      "Test, F1-score: 0.7308484349258649\n",
      "Test, Precision: 0.6316070475173519\n",
      "Test, Recall: 0.867090153921329\n",
      "Test, PR AUC 0.8012912388185944\n",
      "Test, Accuracy: 0.8335932775249069\n",
      "Test, Optimal threshold: 0.5193774\n",
      "\n",
      "Epoch 88\n"
     ]
    },
    {
     "name": "stderr",
     "output_type": "stream",
     "text": [
      "100%|██████████| 1964/1964 [08:26<00:00,  3.88it/s]\n"
     ]
    },
    {
     "name": "stdout",
     "output_type": "stream",
     "text": [
      "Train, ROC AUC: 0.9257811464423629\n",
      "Train, F1-score: 0.736387474934444\n",
      "Train, Precision: 0.6354319180087847\n",
      "Train, Recall: 0.8754813863928113\n",
      "Train, PR AUC 0.8077289425072164\n",
      "Train, Accuracy: 0.8368067989209578\n",
      "Train, Optimal threshold: 0.49320742\n",
      "Test, ROC AUC: 0.9210169155570841\n",
      "Test, F1-score: 0.7309191629052113\n",
      "Test, Precision: 0.629973474801061\n",
      "Test, Recall: 0.8703884681162961\n",
      "Test, PR AUC 0.8015790576225237\n",
      "Test, Accuracy: 0.8330203393067448\n",
      "Test, Optimal threshold: 0.47150296\n",
      "\n",
      "Epoch 89\n"
     ]
    },
    {
     "name": "stderr",
     "output_type": "stream",
     "text": [
      "100%|██████████| 1964/1964 [08:26<00:00,  3.88it/s]\n"
     ]
    },
    {
     "name": "stdout",
     "output_type": "stream",
     "text": [
      "Train, ROC AUC: 0.9258214337670722\n",
      "Train, F1-score: 0.735552066179005\n",
      "Train, Precision: 0.6315685629727064\n",
      "Train, Recall: 0.8805244819365486\n",
      "Train, PR AUC 0.8070619537053092\n",
      "Train, Accuracy: 0.8351595884361049\n",
      "Train, Optimal threshold: 0.48212463\n",
      "Test, ROC AUC: 0.9216019321470151\n",
      "Test, F1-score: 0.7372056514913659\n",
      "Test, Precision: 0.644818747711461\n",
      "Test, Recall: 0.860493525531395\n",
      "Test, PR AUC 0.8034414542841064\n",
      "Test, Accuracy: 0.8401502371327625\n",
      "Test, Optimal threshold: 0.541409\n",
      "\n",
      "Epoch 90\n"
     ]
    },
    {
     "name": "stderr",
     "output_type": "stream",
     "text": [
      "100%|██████████| 1964/1964 [08:26<00:00,  3.88it/s]\n"
     ]
    },
    {
     "name": "stdout",
     "output_type": "stream",
     "text": [
      "Train, ROC AUC: 0.9258658077637113\n",
      "Train, F1-score: 0.7373873009783235\n",
      "Train, Precision: 0.6339468302658486\n",
      "Train, Recall: 0.8811663304602971\n",
      "Train, PR AUC 0.8080172558108722\n",
      "Train, Accuracy: 0.8365919453794552\n",
      "Train, Optimal threshold: 0.48418948\n",
      "Test, ROC AUC: 0.9214178537417089\n",
      "Test, F1-score: 0.7289293849658315\n",
      "Test, Precision: 0.6223528394848301\n",
      "Test, Recall: 0.8795504519912045\n",
      "Test, PR AUC 0.8034747921675397\n",
      "Test, Accuracy: 0.8295508800967629\n",
      "Test, Optimal threshold: 0.59455824\n",
      "\n",
      "Epoch 91\n"
     ]
    },
    {
     "name": "stderr",
     "output_type": "stream",
     "text": [
      "100%|██████████| 1964/1964 [08:26<00:00,  3.87it/s]\n"
     ]
    },
    {
     "name": "stdout",
     "output_type": "stream",
     "text": [
      "Train, ROC AUC: 0.9261886334723536\n",
      "Train, F1-score: 0.7408907927332784\n",
      "Train, Precision: 0.6410708703612736\n",
      "Train, Recall: 0.8775291888257228\n",
      "Train, PR AUC 0.8094479449185941\n",
      "Train, Accuracy: 0.8401967103535535\n",
      "Train, Optimal threshold: 0.4970327\n",
      "Test, ROC AUC: 0.9215962293237687\n",
      "Test, F1-score: 0.7342895470023733\n",
      "Test, Precision: 0.6355841371918542\n",
      "Test, Recall: 0.8692890300513071\n",
      "Test, PR AUC 0.8045120833438002\n",
      "Test, Accuracy: 0.8360760098036095\n",
      "Test, Optimal threshold: 0.49180824\n",
      "\n",
      "Epoch 92\n"
     ]
    },
    {
     "name": "stderr",
     "output_type": "stream",
     "text": [
      "100%|██████████| 1964/1964 [08:27<00:00,  3.87it/s]\n"
     ]
    },
    {
     "name": "stdout",
     "output_type": "stream",
     "text": [
      "Train, ROC AUC: 0.92648964573106\n",
      "Train, F1-score: 0.7320364528566422\n",
      "Train, Precision: 0.6199168892846542\n",
      "Train, Recall: 0.8936670945656825\n",
      "Train, PR AUC 0.8088780944893934\n",
      "Train, Accuracy: 0.8296609292813547\n",
      "Train, Optimal threshold: 0.45228922\n",
      "Test, ROC AUC: 0.9213130153949516\n",
      "Test, F1-score: 0.7441935657703292\n",
      "Test, Precision: 0.6657988622119372\n",
      "Test, Recall: 0.8435133154165648\n",
      "Test, PR AUC 0.8036334736780342\n",
      "Test, Accuracy: 0.8489034599102396\n",
      "Test, Optimal threshold: 0.564168\n",
      "\n",
      "Epoch 93\n"
     ]
    },
    {
     "name": "stderr",
     "output_type": "stream",
     "text": [
      "100%|██████████| 1964/1964 [08:27<00:00,  3.87it/s]\n"
     ]
    },
    {
     "name": "stdout",
     "output_type": "stream",
     "text": [
      "Train, ROC AUC: 0.9267826049968826\n",
      "Train, F1-score: 0.7371659589615804\n",
      "Train, Precision: 0.6310840226382237\n",
      "Train, Recall: 0.8861177333577847\n",
      "Train, PR AUC 0.809289786160751\n",
      "Train, Accuracy: 0.8354858475176459\n",
      "Train, Optimal threshold: 0.47553465\n",
      "Test, ROC AUC: 0.9209812078380865\n",
      "Test, F1-score: 0.7303302079086833\n",
      "Test, Precision: 0.6265081307920966\n",
      "Test, Recall: 0.875397019301246\n",
      "Test, PR AUC 0.8011297042646898\n",
      "Test, Accuracy: 0.8315561638603304\n",
      "Test, Optimal threshold: 0.5789678\n",
      "\n",
      "Epoch 94\n"
     ]
    },
    {
     "name": "stderr",
     "output_type": "stream",
     "text": [
      "100%|██████████| 1964/1964 [08:26<00:00,  3.88it/s]\n"
     ]
    },
    {
     "name": "stdout",
     "output_type": "stream",
     "text": [
      "Train, ROC AUC: 0.9266009126743244\n",
      "Train, F1-score: 0.7423523001478946\n",
      "Train, Precision: 0.6449147957803625\n",
      "Train, Recall: 0.8744727672840639\n",
      "Train, PR AUC 0.8085148136656491\n",
      "Train, Accuracy: 0.8419632839170188\n",
      "Train, Optimal threshold: 0.50661135\n",
      "Test, ROC AUC: 0.9221742232115834\n",
      "Test, F1-score: 0.7399074852817493\n",
      "Test, Precision: 0.649381804761026\n",
      "Test, Recall: 0.8597605668214023\n",
      "Test, PR AUC 0.8058473687905661\n",
      "Test, Accuracy: 0.8425056498074291\n",
      "Test, Optimal threshold: 0.49015233\n",
      "\n",
      "Epoch 95\n"
     ]
    },
    {
     "name": "stderr",
     "output_type": "stream",
     "text": [
      "100%|██████████| 1964/1964 [08:26<00:00,  3.88it/s]\n"
     ]
    },
    {
     "name": "stdout",
     "output_type": "stream",
     "text": [
      "Train, ROC AUC: 0.9281448599928853\n",
      "Train, F1-score: 0.7407016821852976\n",
      "Train, Precision: 0.6393934011279364\n",
      "Train, Recall: 0.8801577113515496\n",
      "Train, PR AUC 0.8132148500866655\n",
      "Train, Accuracy: 0.83956010726762\n",
      "Train, Optimal threshold: 0.48896116\n",
      "Test, ROC AUC: 0.9216072432133853\n",
      "Test, F1-score: 0.7273091163814669\n",
      "Test, Precision: 0.6159322033898305\n",
      "Test, Recall: 0.8878573173711214\n",
      "Test, PR AUC 0.805973391384853\n",
      "Test, Accuracy: 0.8265270395009071\n",
      "Test, Optimal threshold: 0.38068667\n",
      "\n",
      "Epoch 96\n"
     ]
    },
    {
     "name": "stderr",
     "output_type": "stream",
     "text": [
      "100%|██████████| 1964/1964 [08:26<00:00,  3.88it/s]\n"
     ]
    },
    {
     "name": "stdout",
     "output_type": "stream",
     "text": [
      "Train, ROC AUC: 0.9271049147747028\n",
      "Train, F1-score: 0.736673367089896\n",
      "Train, Precision: 0.6309824775520879\n",
      "Train, Recall: 0.8848951647411211\n",
      "Train, PR AUC 0.8119596775727989\n",
      "Train, Accuracy: 0.8352948665918658\n",
      "Train, Optimal threshold: 0.47559214\n",
      "Test, ROC AUC: 0.9211602354718593\n",
      "Test, F1-score: 0.7391076115485564\n",
      "Test, Precision: 0.6480117820324006\n",
      "Test, Recall: 0.8600048863913999\n",
      "Test, PR AUC 0.8059011726678506\n",
      "Test, Accuracy: 0.841805391985231\n",
      "Test, Optimal threshold: 0.5822944\n",
      "\n",
      "Epoch 97\n"
     ]
    },
    {
     "name": "stderr",
     "output_type": "stream",
     "text": [
      "100%|██████████| 1964/1964 [08:26<00:00,  3.87it/s]\n"
     ]
    },
    {
     "name": "stdout",
     "output_type": "stream",
     "text": [
      "Train, ROC AUC: 0.9274045234319341\n",
      "Train, F1-score: 0.7411376751854905\n",
      "Train, Precision: 0.6405129803624705\n",
      "Train, Recall: 0.8792713491044685\n",
      "Train, PR AUC 0.8097278048891516\n",
      "Train, Accuracy: 0.8400853048135151\n",
      "Train, Optimal threshold: 0.4933977\n",
      "Test, ROC AUC: 0.9208699515145915\n",
      "Test, F1-score: 0.7371862476270828\n",
      "Test, Precision: 0.6485433290035257\n",
      "Test, Recall: 0.853896897141461\n",
      "Test, PR AUC 0.8022866179682645\n",
      "Test, Accuracy: 0.8413597733711048\n",
      "Test, Optimal threshold: 0.45089594\n",
      "\n",
      "Epoch 98\n"
     ]
    },
    {
     "name": "stderr",
     "output_type": "stream",
     "text": [
      "100%|██████████| 1964/1964 [08:26<00:00,  3.88it/s]\n"
     ]
    },
    {
     "name": "stdout",
     "output_type": "stream",
     "text": [
      "Train, ROC AUC: 0.927188790526431\n",
      "Train, F1-score: 0.7374922005322738\n",
      "Train, Precision: 0.6320913277890555\n",
      "Train, Recall: 0.8850785500336207\n",
      "Train, PR AUC 0.8118129980698859\n",
      "Train, Accuracy: 0.8359553422935218\n",
      "Train, Optimal threshold: 0.47533017\n",
      "Test, ROC AUC: 0.9212453992098797\n",
      "Test, F1-score: 0.7371025479048221\n",
      "Test, Precision: 0.647641073080481\n",
      "Test, Recall: 0.8552406547764476\n",
      "Test, PR AUC 0.8021297078412108\n",
      "Test, Accuracy: 0.8410414743610147\n",
      "Test, Optimal threshold: 0.4787522\n",
      "\n",
      "Epoch 99\n"
     ]
    },
    {
     "name": "stderr",
     "output_type": "stream",
     "text": [
      "100%|██████████| 1964/1964 [08:26<00:00,  3.88it/s]\n"
     ]
    },
    {
     "name": "stdout",
     "output_type": "stream",
     "text": [
      "Train, ROC AUC: 0.9281114071896375\n",
      "Train, F1-score: 0.743328556489407\n",
      "Train, Precision: 0.6434654328438275\n",
      "Train, Recall: 0.8798826334128003\n",
      "Train, PR AUC 0.811665569209044\n",
      "Train, Accuracy: 0.8417961756069613\n",
      "Train, Optimal threshold: 0.49373272\n",
      "Test, ROC AUC: 0.9221035492194872\n",
      "Test, F1-score: 0.7321069717112382\n",
      "Test, Precision: 0.6330986543088851\n",
      "Test, Recall: 0.8678231126313217\n",
      "Test, PR AUC 0.8068071022869412\n",
      "Test, Accuracy: 0.8345163446541681\n",
      "Test, Optimal threshold: 0.44602984\n",
      "\n"
     ]
    }
   ],
   "source": [
    "optimizer = torch.optim.Adam(model.parameters())\n",
    "criterion = torch.nn.BCEWithLogitsLoss(pos_weight=pos_weight) #로짓이 입혀진 바이너리 크로스 엔트로피 로스\n",
    "\n",
    "for epoch in range(100): \n",
    "    print('Epoch', epoch)\n",
    "    train(epoch, model, train_loader, optimizer, criterion)\n",
    "    with torch.no_grad():\n",
    "        roc_auc = test(epoch, model, test_loader, criterion)\n",
    "    now = datetime.now().strftime('%Y%m%dT%H%M%S')\n",
    "    filename = f'{now}_model_{roc_auc}.pt'\n",
    "    torch.save(model, filename)\n",
    "    print()"
   ]
  },
  {
   "cell_type": "code",
   "execution_count": 17,
   "metadata": {},
   "outputs": [
    {
     "data": {
      "text/plain": [
       "GNN(\n",
       "  (conv1): GATConv(31, 256, heads=8)\n",
       "  (norm1): GraphNorm(256)\n",
       "  (conv2): GATConv(256, 256, heads=8)\n",
       "  (norm2): GraphNorm(256)\n",
       "  (conv3): GATConv(256, 256, heads=8)\n",
       "  (norm3): GraphNorm(256)\n",
       "  (conv4): GATConv(256, 256, heads=8)\n",
       "  (norm4): GraphNorm(256)\n",
       "  (conv5): Conv1d(8, 16, kernel_size=(9,), stride=(1,), padding=same)\n",
       "  (norm5): BatchNorm1d(16, eps=1e-05, momentum=0.1, affine=True, track_running_stats=True)\n",
       "  (pool5): AvgPool1d(kernel_size=(2,), stride=(2,), padding=(0,))\n",
       "  (conv6): Conv1d(16, 32, kernel_size=(9,), stride=(1,), padding=same)\n",
       "  (norm6): BatchNorm1d(32, eps=1e-05, momentum=0.1, affine=True, track_running_stats=True)\n",
       "  (pool6): AvgPool1d(kernel_size=(2,), stride=(2,), padding=(0,))\n",
       "  (lin7): Linear(in_features=256, out_features=1, bias=True)\n",
       ")"
      ]
     },
     "execution_count": 17,
     "metadata": {},
     "output_type": "execute_result"
    }
   ],
   "source": [
    "#pretrained_model = torch.load('models/20221101T013506_model_0.920.pt', map_location=device)\n",
    "pretrained_model = torch.load(filename, map_location=device)\n",
    "pretrained_model"
   ]
  },
  {
   "cell_type": "code",
   "execution_count": 18,
   "metadata": {},
   "outputs": [
    {
     "name": "stdout",
     "output_type": "stream",
     "text": [
      "Epoch 0\n",
      "Test, ROC AUC: 0.9218283124071883\n",
      "Test, F1-score: 0.7315258383447151\n",
      "Test, Precision: 0.6275795732773697\n",
      "Test, Recall: 0.8767407769362326\n",
      "Test, PR AUC 0.8037979538311759\n",
      "Test, Accuracy: 0.8323200814845466\n",
      "Test, Optimal threshold: 0.42802235\n",
      "\n"
     ]
    }
   ],
   "source": [
    "criterion = torch.nn.BCELoss() #바이너리 크로스 엔트로피 로스\n",
    "\n",
    "with torch.no_grad():\n",
    "    test(0, pretrained_model, test_loader, criterion)"
   ]
  },
  {
   "cell_type": "code",
   "execution_count": null,
   "metadata": {},
   "outputs": [],
   "source": []
  }
 ],
 "metadata": {
  "kernelspec": {
   "display_name": "deepchem",
   "language": "python",
   "name": "deepchem"
  },
  "language_info": {
   "codemirror_mode": {
    "name": "ipython",
    "version": 3
   },
   "file_extension": ".py",
   "mimetype": "text/x-python",
   "name": "python",
   "nbconvert_exporter": "python",
   "pygments_lexer": "ipython3",
   "version": "3.9.13"
  }
 },
 "nbformat": 4,
 "nbformat_minor": 4
}
